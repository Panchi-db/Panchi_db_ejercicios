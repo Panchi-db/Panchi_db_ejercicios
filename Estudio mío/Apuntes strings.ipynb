{
 "cells": [
  {
   "cell_type": "markdown",
   "metadata": {},
   "source": [
    "##STRINGS"
   ]
  },
  {
   "cell_type": "markdown",
   "metadata": {},
   "source": [
    "**.find()**  \n",
    "**.index()**\n",
    "Si no existe la palabra; FIND devuelve -1 | INDEX devuelve error"
   ]
  },
  {
   "cell_type": "markdown",
   "metadata": {},
   "source": [
    "**.count()** # Cuenta el núm de objetos de una lista "
   ]
  },
  {
   "cell_type": "markdown",
   "metadata": {},
   "source": [
    "**.slpit()** divide en cadenas el string"
   ]
  },
  {
   "cell_type": "markdown",
   "metadata": {},
   "source": [
    "**.replace()** sustituye una palabra con otra"
   ]
  },
  {
   "cell_type": "markdown",
   "metadata": {},
   "source": [
    "**Indexing** (no es metodos con palabra): con corchetes[0] y busca la posicion del objeto que sea.\n",
    "\n",
    "**Slicing** (no es metodos con palabra): se aplica a objetos iterables, puede ir de izq a dcha en postivo (0) , de dcha a izq en negativo -1.\n",
    "[0:10], [0:],[:0] \n",
    "\n",
    "**Stride** (no es metodos con palabra): es Slicing con pasos [0:10:2]\n",
    "\n",
    "función **.len()** te dice la longitud de un objeto iterable."
   ]
  }
 ],
 "metadata": {
  "kernelspec": {
   "display_name": "Python 3",
   "language": "python",
   "name": "python3"
  },
  "language_info": {
   "codemirror_mode": {
    "name": "ipython",
    "version": 3
   },
   "file_extension": ".py",
   "mimetype": "text/x-python",
   "name": "python",
   "nbconvert_exporter": "python",
   "pygments_lexer": "ipython3",
   "version": "3.12.6"
  }
 },
 "nbformat": 4,
 "nbformat_minor": 2
}
