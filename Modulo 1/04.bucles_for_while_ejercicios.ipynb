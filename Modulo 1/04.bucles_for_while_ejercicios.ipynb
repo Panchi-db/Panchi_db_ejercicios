{
 "cells": [
  {
   "cell_type": "markdown",
   "id": "d6ba5bce",
   "metadata": {},
   "source": [
    "## Ejercicios - Bucles"
   ]
  },
  {
   "cell_type": "markdown",
   "id": "80012d75",
   "metadata": {},
   "source": [
    "### Ejercicio 1\n",
    "\n",
    "- Dada la siguiente **lista = [1, 2, 3, 4, 5, 6, 7, 8, 9, 10]**, imprimir cada número sumandole 10 unidades utilizando un bucle **`for`**."
   ]
  },
  {
   "cell_type": "code",
   "execution_count": 5,
   "id": "5436374e",
   "metadata": {},
   "outputs": [
    {
     "name": "stdout",
     "output_type": "stream",
     "text": [
      "11\n",
      "12\n",
      "13\n",
      "14\n",
      "15\n",
      "16\n",
      "17\n",
      "18\n",
      "19\n",
      "20\n"
     ]
    }
   ],
   "source": [
    "lista = [1, 2, 3, 4, 5, 6, 7, 8, 9, 10]\n",
    "for listamasdiez in lista:\n",
    "    print (listamasdiez + 10)"
   ]
  },
  {
   "cell_type": "code",
   "execution_count": null,
   "id": "b77fc537",
   "metadata": {},
   "outputs": [],
   "source": []
  },
  {
   "cell_type": "code",
   "execution_count": null,
   "id": "4dab770a",
   "metadata": {},
   "outputs": [],
   "source": []
  },
  {
   "cell_type": "markdown",
   "id": "615b834a",
   "metadata": {},
   "source": [
    "### Ejercicio 2\n",
    "- Crea un bucle for que muestre la tabla de multiplicar del 1 al 10 de un número dado por el usuario.\n",
    "- Ejemplo:\n",
    "\n",
    "```html\n",
    "1 x 2 = 2\n",
    "2 x 2 = 4\n",
    "3 x 2 = 6\n",
    "4 x 2 = 8\n",
    "5 x 2 = 10\n",
    "6 x 2 = 12\n",
    "7 x 2 = 14\n",
    "8 x 2 = 16\n",
    "9 x 2 = 18\n",
    "10 x 2 = 20\n",
    "```"
   ]
  },
  {
   "cell_type": "code",
   "execution_count": 9,
   "id": "4c07823e",
   "metadata": {},
   "outputs": [
    {
     "name": "stdout",
     "output_type": "stream",
     "text": [
      " 1 x 5 = 2\n",
      " 2 x 5 = 4\n",
      " 3 x 5 = 6\n",
      " 4 x 5 = 8\n",
      " 5 x 5 = 10\n",
      " 6 x 5 = 12\n",
      " 7 x 5 = 14\n",
      " 8 x 5 = 16\n",
      " 9 x 5 = 18\n",
      " 10 x 5 = 20\n"
     ]
    }
   ],
   "source": [
    "multiplicando = int(input(\"Introduce un numero:\"))\n",
    "for tabla in range (1,11):\n",
    "    multiplicacion = tabla *2\n",
    "    print (f\" {tabla} x {multiplicando} = {multiplicacion}\")"
   ]
  },
  {
   "cell_type": "code",
   "execution_count": null,
   "id": "c2777e61",
   "metadata": {},
   "outputs": [],
   "source": []
  },
  {
   "cell_type": "code",
   "execution_count": null,
   "id": "b5426c6d",
   "metadata": {},
   "outputs": [],
   "source": []
  },
  {
   "cell_type": "markdown",
   "id": "3c8a4c44",
   "metadata": {},
   "source": [
    "### Ejercicio 3\n",
    "- Crear una lista vacia.\n",
    "- Llenar la lista con los numero del 200 al 215 usando un bucle **`for`**."
   ]
  },
  {
   "cell_type": "code",
   "execution_count": 17,
   "id": "92d1be47",
   "metadata": {},
   "outputs": [
    {
     "name": "stdout",
     "output_type": "stream",
     "text": [
      "200\n",
      "201\n",
      "202\n",
      "203\n",
      "204\n",
      "205\n",
      "206\n",
      "207\n",
      "208\n",
      "209\n",
      "210\n",
      "211\n",
      "212\n",
      "213\n",
      "214\n",
      "215\n"
     ]
    }
   ],
   "source": [
    "lista= []\n",
    "for lista in range(200,216):\n",
    "    print (lista)"
   ]
  },
  {
   "cell_type": "code",
   "execution_count": null,
   "id": "f0855161",
   "metadata": {},
   "outputs": [],
   "source": []
  },
  {
   "cell_type": "code",
   "execution_count": null,
   "id": "864fac96",
   "metadata": {},
   "outputs": [],
   "source": []
  },
  {
   "cell_type": "markdown",
   "id": "073bada8",
   "metadata": {},
   "source": [
    "### Ejercicio 4\n",
    "- Crea una lista de números pares entre el 555 y el 599 utilizando bucle **`for`**."
   ]
  },
  {
   "cell_type": "markdown",
   "id": "40497ffc",
   "metadata": {},
   "source": []
  },
  {
   "cell_type": "code",
   "execution_count": 26,
   "id": "2ea6dc60",
   "metadata": {
    "scrolled": true
   },
   "outputs": [
    {
     "name": "stdout",
     "output_type": "stream",
     "text": [
      "556\n",
      "558\n",
      "560\n",
      "562\n",
      "564\n",
      "566\n",
      "568\n",
      "570\n",
      "572\n",
      "574\n",
      "576\n",
      "578\n",
      "580\n",
      "582\n",
      "584\n",
      "586\n",
      "588\n",
      "590\n",
      "592\n",
      "594\n",
      "596\n",
      "598\n",
      "600\n"
     ]
    }
   ],
   "source": [
    "lista=[]\n",
    "for lista in range (556,601,2):\n",
    "    print (lista)    "
   ]
  },
  {
   "cell_type": "code",
   "execution_count": 27,
   "id": "e361b1ba",
   "metadata": {},
   "outputs": [
    {
     "name": "stdout",
     "output_type": "stream",
     "text": [
      "[556, 558, 560, 562, 564, 566, 568, 570, 572, 574, 576, 578, 580, 582, 584, 586, 588, 590, 592, 594, 596, 598]\n"
     ]
    }
   ],
   "source": [
    "num_pares= []\n",
    "for par in range (555,599):\n",
    "    if par %2 == 0:\n",
    "        num_pares.append(par)\n",
    "print(num_pares)"
   ]
  },
  {
   "cell_type": "code",
   "execution_count": null,
   "id": "18fb0d85",
   "metadata": {},
   "outputs": [],
   "source": []
  },
  {
   "cell_type": "markdown",
   "id": "282e98c2",
   "metadata": {},
   "source": [
    "### Ejercicio 5\n",
    "- Crea un bucle for que sume los valores de la siguiente lista: **[51, 52, 53, 54, 55]**."
   ]
  },
  {
   "cell_type": "code",
   "execution_count": 35,
   "id": "17d95361",
   "metadata": {},
   "outputs": [],
   "source": []
  },
  {
   "cell_type": "code",
   "execution_count": 37,
   "id": "3d4d4485",
   "metadata": {},
   "outputs": [
    {
     "name": "stdout",
     "output_type": "stream",
     "text": [
      "la suma de la lista es : 265\n"
     ]
    }
   ],
   "source": [
    "lista = [51, 52, 53, 54, 55]\n",
    "suma = 0\n",
    "for num in lista:\n",
    "    suma += num\n",
    "    \n",
    "    \n",
    "print (f\"la suma de la lista es : {suma}\")\n",
    "     \n",
    "    "
   ]
  },
  {
   "cell_type": "code",
   "execution_count": null,
   "id": "30c815f0",
   "metadata": {},
   "outputs": [],
   "source": []
  },
  {
   "cell_type": "code",
   "execution_count": null,
   "id": "dee25278",
   "metadata": {},
   "outputs": [],
   "source": []
  },
  {
   "cell_type": "markdown",
   "id": "ac9f3703",
   "metadata": {},
   "source": [
    "### Ejercicio 6\n",
    "- Crea una lista con 5 elementos y cada elemento de esa lista, va a ser una lista con los siguientes datos: **[1, 2, 3]**, utiliza 2 **`for`** anidados.\n",
    "\n",
    "- Resultado: [[1, 2, 3], [1, 2, 3], [1, 2, 3], [1, 2, 3], [1, 2, 3]]"
   ]
  },
  {
   "cell_type": "code",
   "execution_count": 1,
   "id": "70ba6e94",
   "metadata": {},
   "outputs": [
    {
     "name": "stdout",
     "output_type": "stream",
     "text": [
      "[[1, 2, 3], [1, 2, 3], [1, 2, 3], [1, 2, 3], [1, 2, 3]]\n"
     ]
    }
   ],
   "source": [
    "lista=[]\n",
    "for num in range (5):\n",
    "    minilista= []\n",
    "    for mini_num in range (1,4):\n",
    "        minilista.append(mini_num)\n",
    "    lista.append(minilista)\n",
    "print (lista)"
   ]
  },
  {
   "cell_type": "code",
   "execution_count": 3,
   "id": "c40c21e9",
   "metadata": {},
   "outputs": [
    {
     "name": "stdout",
     "output_type": "stream",
     "text": [
      "[[1, 2, 3], [1, 2, 3], [1, 2, 3], [1, 2, 3], [1, 2, 3]]\n"
     ]
    }
   ],
   "source": [
    "lista = []\n",
    "for numero_en_lista in range (5):\n",
    "    list_peq=[]\n",
    "    for subnum in range (1,4):\n",
    "        list_peq.append(subnum)\n",
    "    lista.append (list_peq)\n",
    "print (lista)"
   ]
  },
  {
   "cell_type": "code",
   "execution_count": null,
   "id": "beeacbeb",
   "metadata": {},
   "outputs": [],
   "source": []
  },
  {
   "cell_type": "markdown",
   "id": "b7bb3dcc",
   "metadata": {},
   "source": [
    "### Ejercicio 7\n",
    "- Crea un bucle que cuente del 10 al 1."
   ]
  },
  {
   "cell_type": "code",
   "execution_count": 4,
   "id": "ac6f8092",
   "metadata": {},
   "outputs": [
    {
     "name": "stdout",
     "output_type": "stream",
     "text": [
      "1\n",
      "2\n",
      "3\n",
      "4\n",
      "5\n",
      "6\n",
      "7\n",
      "8\n",
      "9\n",
      "10\n"
     ]
    }
   ],
   "source": [
    "for contar in range (1,11):\n",
    "    print (contar)"
   ]
  },
  {
   "cell_type": "code",
   "execution_count": null,
   "id": "22d3a338",
   "metadata": {},
   "outputs": [],
   "source": []
  },
  {
   "cell_type": "code",
   "execution_count": null,
   "id": "9153024c",
   "metadata": {},
   "outputs": [],
   "source": []
  },
  {
   "cell_type": "markdown",
   "id": "6d158465",
   "metadata": {},
   "source": [
    "### Ejercicio 8\n",
    "- Crea dos variables llamadas **par** e **impar** e inicializalas en 0.\n",
    "- Dada la siguiente lista de números = **[10, 7, 8, 3, 5, 2, 71, 21, 88]**, crea un bucle que recorra la lista y sume los números pares a la variable **par** y sume los números impares a la variable **impares**."
   ]
  },
  {
   "cell_type": "code",
   "execution_count": 9,
   "id": "df34a94b",
   "metadata": {},
   "outputs": [
    {
     "name": "stdout",
     "output_type": "stream",
     "text": [
      " el 10 es par\n",
      " el 7 es impar\n",
      " el 8 es par\n",
      " el 3 es impar\n",
      " el 5 es impar\n",
      " el 2 es par\n",
      " el 71 es impar\n",
      " el 21 es impar\n",
      " el 88 es par\n"
     ]
    }
   ],
   "source": [
    "par=0\n",
    "impar=0\n",
    "lista=[10, 7, 8, 3, 5, 2, 71, 21, 88]\n",
    "for num in lista:\n",
    "    if num %2==0:\n",
    "        print(f\" el {num} es par\")\n",
    "    else: \n",
    "        print(f\" el {num} es impar\")\n",
    "    "
   ]
  },
  {
   "cell_type": "code",
   "execution_count": null,
   "id": "0fa5dcb9",
   "metadata": {},
   "outputs": [],
   "source": []
  },
  {
   "cell_type": "code",
   "execution_count": null,
   "id": "24925fcc",
   "metadata": {},
   "outputs": [],
   "source": []
  },
  {
   "cell_type": "markdown",
   "id": "367b6971",
   "metadata": {},
   "source": [
    "### Ejercicio 9\n",
    "- Crea una lista con 5 colores diferentes.\n",
    "- Y con bucles anidados imprime las letras de los colores."
   ]
  },
  {
   "cell_type": "code",
   "execution_count": 4,
   "id": "01085cd1",
   "metadata": {},
   "outputs": [
    {
     "name": "stdout",
     "output_type": "stream",
     "text": [
      " la palabra es verde\n",
      " y las letras v\n",
      " y las letras e\n",
      " y las letras r\n",
      " y las letras d\n",
      " y las letras e\n",
      " la palabra es rojo\n",
      " y las letras r\n",
      " y las letras o\n",
      " y las letras j\n",
      " y las letras o\n",
      " la palabra es azul\n",
      " y las letras a\n",
      " y las letras z\n",
      " y las letras u\n",
      " y las letras l\n",
      " la palabra es amarillo\n",
      " y las letras a\n",
      " y las letras m\n",
      " y las letras a\n",
      " y las letras r\n",
      " y las letras i\n",
      " y las letras l\n",
      " y las letras l\n",
      " y las letras o\n",
      " la palabra es narnaja\n",
      " y las letras n\n",
      " y las letras a\n",
      " y las letras r\n",
      " y las letras n\n",
      " y las letras a\n",
      " y las letras j\n",
      " y las letras a\n"
     ]
    }
   ],
   "source": [
    "colores=[\"verde\", \"rojo\", \"azul\", \"amarillo\", \"narnaja\"]\n",
    "for color in colores:\n",
    "    print (f\" la palabra es {color}\")\n",
    "    for letras in color:\n",
    "        print(f\" y las letras {letras}\")"
   ]
  },
  {
   "cell_type": "code",
   "execution_count": null,
   "id": "162f2a39",
   "metadata": {},
   "outputs": [],
   "source": []
  },
  {
   "cell_type": "code",
   "execution_count": null,
   "id": "976981fa",
   "metadata": {},
   "outputs": [],
   "source": []
  },
  {
   "cell_type": "markdown",
   "id": "bf59c876",
   "metadata": {},
   "source": [
    "### Ejercicio 10\n",
    "- Imprimir el índice y valor de cada elemento de la **lista = [-5, -4, -3, -2, -1, 0, 1, 2, 3, 4, 5]** utilizando un bucle **for**."
   ]
  },
  {
   "cell_type": "code",
   "execution_count": 13,
   "id": "db8dad4b",
   "metadata": {},
   "outputs": [
    {
     "name": "stdout",
     "output_type": "stream",
     "text": [
      "0:-5\n",
      "1:-4\n",
      "2:-3\n",
      "3:-2\n",
      "4:-1\n",
      "5:0\n",
      "6:1\n",
      "7:2\n",
      "8:3\n",
      "9:4\n",
      "10:5\n"
     ]
    }
   ],
   "source": [
    "lista = [-5, -4, -3, -2, -1, 0, 1, 2, 3, 4, 5]\n",
    "for i, lista in enumerate(lista):\n",
    "    print(f\"{i}:{lista}\") "
   ]
  },
  {
   "cell_type": "code",
   "execution_count": null,
   "id": "3b6f62e5",
   "metadata": {},
   "outputs": [],
   "source": []
  },
  {
   "cell_type": "code",
   "execution_count": null,
   "id": "70bbdb9a",
   "metadata": {},
   "outputs": [],
   "source": []
  },
  {
   "cell_type": "markdown",
   "id": "eb2b14d4",
   "metadata": {},
   "source": [
    "### Ejercicio 11\n",
    "- Crea un bucle **while** donde le pregunte al usuario un número y si ese número es impar el programa se detiene."
   ]
  },
  {
   "cell_type": "code",
   "execution_count": 31,
   "id": "1f61356a",
   "metadata": {},
   "outputs": [
    {
     "name": "stdout",
     "output_type": "stream",
     "text": [
      "El numero 2, es par. Seguimos para bingo!\n",
      " El numero 3 es impar. Stop\n"
     ]
    }
   ],
   "source": [
    "while True:\n",
    "    numero = int (input(\"intoduce un numero\"))\n",
    "    if  numero %2 !=0:\n",
    "        print (f\" El numero {numero} es impar. Stop\")\n",
    "        break\n",
    "    else:\n",
    "        print(f\"El numero {numero}, es par. Seguimos para bingo!\")"
   ]
  },
  {
   "cell_type": "code",
   "execution_count": null,
   "id": "76f2453d",
   "metadata": {},
   "outputs": [],
   "source": []
  },
  {
   "cell_type": "code",
   "execution_count": null,
   "id": "63488bdc",
   "metadata": {},
   "outputs": [],
   "source": []
  },
  {
   "cell_type": "markdown",
   "id": "506b594c",
   "metadata": {},
   "source": [
    "### Ejercicio 12\n",
    "- Pide al usuario una frase.\n",
    "- Has un bucle que recorra la frase y que imprima las letras de la frase y cuantas veces aparece."
   ]
  },
  {
   "cell_type": "code",
   "execution_count": 33,
   "id": "6d5eed1e",
   "metadata": {},
   "outputs": [
    {
     "name": "stdout",
     "output_type": "stream",
     "text": [
      " la frase tiene la letra L\n",
      " la frase tiene la letra a\n",
      " la frase tiene la letra s\n",
      " la frase tiene la letra  \n",
      " la frase tiene la letra c\n",
      " la frase tiene la letra a\n",
      " la frase tiene la letra r\n",
      " la frase tiene la letra a\n",
      " la frase tiene la letra s\n",
      " la frase tiene la letra ,\n",
      " la frase tiene la letra  \n",
      " la frase tiene la letra J\n",
      " la frase tiene la letra u\n",
      " la frase tiene la letra a\n",
      " la frase tiene la letra n\n"
     ]
    }
   ],
   "source": [
    "frase= input(\"Introduce una frase\")\n",
    "for i in frase:\n",
    "    print (f\" la frase tiene la letra {i}\")"
   ]
  },
  {
   "cell_type": "code",
   "execution_count": 35,
   "id": "7589273f",
   "metadata": {},
   "outputs": [
    {
     "name": "stdout",
     "output_type": "stream",
     "text": [
      "letras y repeticiones:\n",
      "l y 1\n",
      "a y 4\n",
      "s y 2\n",
      "c y 1\n",
      "r y 1\n",
      ", y 1\n",
      "J y 1\n",
      "u y 1\n",
      "n y 1\n"
     ]
    }
   ],
   "source": [
    "frase= input(\"Introduce una frase\")\n",
    "numero_letras ={}\n",
    "\n",
    "for letra in frase:\n",
    "    if letra !=\" \":\n",
    "        if letra in numero_letras:\n",
    "            numero_letras[letra]+=1\n",
    "        else:\n",
    "            numero_letras[letra]=1\n",
    "print(\"letras y repeticiones:\")\n",
    "for letra, cantidad in numero_letras.items():\n",
    "    print (f\"{letra} y {cantidad}\")\n",
    "            "
   ]
  },
  {
   "cell_type": "code",
   "execution_count": null,
   "id": "c80fb589",
   "metadata": {},
   "outputs": [],
   "source": []
  },
  {
   "cell_type": "markdown",
   "id": "ed860fac-20fd-4ac9-a1a5-cb60a7d96bc5",
   "metadata": {},
   "source": [
    "##############################################################################################################################"
   ]
  }
 ],
 "metadata": {
  "kernelspec": {
   "display_name": "Python 3",
   "language": "python",
   "name": "python3"
  },
  "language_info": {
   "codemirror_mode": {
    "name": "ipython",
    "version": 3
   },
   "file_extension": ".py",
   "mimetype": "text/x-python",
   "name": "python",
   "nbconvert_exporter": "python",
   "pygments_lexer": "ipython3",
   "version": "3.12.6"
  }
 },
 "nbformat": 4,
 "nbformat_minor": 5
}
