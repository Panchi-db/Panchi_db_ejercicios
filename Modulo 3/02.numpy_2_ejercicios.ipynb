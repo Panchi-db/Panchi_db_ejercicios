{
 "cells": [
  {
   "cell_type": "markdown",
   "id": "b87f144d",
   "metadata": {},
   "source": [
    "## Ejercicios - NumPy 2"
   ]
  },
  {
   "cell_type": "code",
   "execution_count": 1,
   "id": "b9d785ce",
   "metadata": {},
   "outputs": [],
   "source": [
    "import numpy as np\n",
    "import matplotlib # Para ver la versión\n",
    "import matplotlib.pyplot as plt\n",
    "from datetime import datetime, timedelta"
   ]
  },
  {
   "cell_type": "code",
   "execution_count": 2,
   "id": "968b278f-7bc6-4509-aecd-fcf99ebc90d6",
   "metadata": {
    "tags": []
   },
   "outputs": [
    {
     "name": "stdout",
     "output_type": "stream",
     "text": [
      "numpy==2.2.0\n",
      "matplotlib==3.10.0\n"
     ]
    }
   ],
   "source": [
    "# Versiones\n",
    "\n",
    "print(f\"numpy=={np.__version__}\")\n",
    "print(f\"matplotlib=={matplotlib.__version__}\")"
   ]
  },
  {
   "cell_type": "markdown",
   "id": "dc18e199",
   "metadata": {},
   "source": [
    "### Ejercicio 1:\n",
    "- Obten un vector con 12 elementos aleatorios, los primeros 6 elementos deben de ser negativos y los siguientes 6 elementos positivos."
   ]
  },
  {
   "cell_type": "code",
   "execution_count": 20,
   "id": "6aabb11a",
   "metadata": {},
   "outputs": [
    {
     "name": "stdout",
     "output_type": "stream",
     "text": [
      "[-9 -7 -7 -5 -2 -2  1  4  4  5  7  7]\n"
     ]
    }
   ],
   "source": [
    "\n",
    "positivos = np.random.randint(-10, 0, 6)\n",
    "negativos = np.random.randint(1, 10, 6)\n",
    "vector = np.concatenate((negativos, positivos))\n",
    "ordenado = np.sort(vector)\n",
    "print(ordenado)"
   ]
  },
  {
   "cell_type": "code",
   "execution_count": null,
   "id": "f7c1bfb3",
   "metadata": {},
   "outputs": [],
   "source": []
  },
  {
   "cell_type": "code",
   "execution_count": null,
   "id": "fa4259d7",
   "metadata": {},
   "outputs": [],
   "source": []
  },
  {
   "cell_type": "markdown",
   "id": "e693107b",
   "metadata": {},
   "source": [
    "### Ejercicio 2:\n",
    "- Obten una matriz con dimensiones igual a (3, 5) con valores flotantes entre 0 y 1 para cada elemento."
   ]
  },
  {
   "cell_type": "code",
   "execution_count": 25,
   "id": "8301606f",
   "metadata": {},
   "outputs": [
    {
     "name": "stdout",
     "output_type": "stream",
     "text": [
      "[[0.71844521 0.08832656 0.37096029 0.29047395 0.49761639]\n",
      " [0.81960561 0.97292138 0.83283966 0.14733723 0.21522286]\n",
      " [0.50840139 0.54431746 0.11973375 0.75511366 0.36925107]]\n"
     ]
    }
   ],
   "source": [
    "matriz= np.random.random(15).reshape (3,5) \n",
    "print (matriz)"
   ]
  },
  {
   "cell_type": "code",
   "execution_count": null,
   "id": "ba8da516",
   "metadata": {},
   "outputs": [],
   "source": []
  },
  {
   "cell_type": "code",
   "execution_count": null,
   "id": "e46e57df",
   "metadata": {},
   "outputs": [],
   "source": []
  },
  {
   "cell_type": "markdown",
   "id": "08fdb77d",
   "metadata": {},
   "source": [
    "### Ejercicio 3:\n",
    "- Obten una matriz con dimensiones igual a (4, 4), cada elemento de la matriz debe de ser un número aleatorio entre 1 y 5."
   ]
  },
  {
   "cell_type": "code",
   "execution_count": 41,
   "id": "8bc989b8",
   "metadata": {},
   "outputs": [
    {
     "name": "stdout",
     "output_type": "stream",
     "text": [
      "[[0 3 1 2]\n",
      " [2 1 5 2]\n",
      " [3 5 3 5]\n",
      " [2 5 5 3]]\n"
     ]
    }
   ],
   "source": [
    "aleatorio = np.random.choice(6,16, 2).reshape (4,4)  \n",
    "print (aleatorio) "
   ]
  },
  {
   "cell_type": "code",
   "execution_count": null,
   "id": "71e67d3f",
   "metadata": {},
   "outputs": [],
   "source": []
  },
  {
   "cell_type": "markdown",
   "id": "34a1a228",
   "metadata": {},
   "source": [
    "### Ejercicio 4:\n",
    "- Obten una matriz de dimensiones (7, 7) de ceros y si la suma de sus indices es par convierte el valor en 1."
   ]
  },
  {
   "cell_type": "code",
   "execution_count": 52,
   "id": "bcb07165",
   "metadata": {},
   "outputs": [
    {
     "data": {
      "text/plain": [
       "array([[0., 0., 0., 0., 0., 0., 0.],\n",
       "       [0., 0., 0., 0., 0., 0., 0.],\n",
       "       [0., 0., 0., 0., 0., 0., 0.],\n",
       "       [0., 0., 0., 0., 0., 0., 0.],\n",
       "       [0., 0., 0., 0., 0., 0., 0.],\n",
       "       [0., 0., 0., 0., 0., 0., 0.],\n",
       "       [0., 0., 0., 0., 0., 0., 0.]])"
      ]
     },
     "execution_count": 52,
     "metadata": {},
     "output_type": "execute_result"
    }
   ],
   "source": [
    "siete= np.zeros(49).reshape(7,7)\n",
    "siete\n"
   ]
  },
  {
   "cell_type": "code",
   "execution_count": 60,
   "id": "a8efa66b",
   "metadata": {},
   "outputs": [
    {
     "name": "stdout",
     "output_type": "stream",
     "text": [
      "[[1. 0. 1. 0. 1. 0. 1.]\n",
      " [0. 1. 0. 1. 0. 1. 0.]\n",
      " [1. 0. 1. 0. 1. 0. 1.]\n",
      " [0. 1. 0. 1. 0. 1. 0.]\n",
      " [1. 0. 1. 0. 1. 0. 1.]\n",
      " [0. 1. 0. 1. 0. 1. 0.]\n",
      " [1. 0. 1. 0. 1. 0. 1.]]\n"
     ]
    }
   ],
   "source": [
    "filas, columnas= np.indices((7,7))\n",
    "\n",
    "siete [(filas+columnas) %2==0]=1\n",
    "print(siete)"
   ]
  },
  {
   "cell_type": "code",
   "execution_count": 61,
   "id": "1394367d",
   "metadata": {},
   "outputs": [
    {
     "data": {
      "image/png": "[encoded data removed]",
      "text/plain": [
       "<Figure size 500x500 with 1 Axes>"
      ]
     },
     "metadata": {},
     "output_type": "display_data"
    }
   ],
   "source": [
    "# Después de crear la matriz anterior (matriz) ejecuta esta celda para observar a través de una imagen el resultado.\n",
    "\n",
    "plt.figure(figsize = (5, 5)) \n",
    "plt.imshow(matriz, cmap = \"gray\")\n",
    "plt.show()"
   ]
  },
  {
   "cell_type": "markdown",
   "id": "f713ac5b",
   "metadata": {},
   "source": [
    "### Ejercicio 5:\n",
    "- Obten la siguiente matriz usando **NumPy**:\n",
    "\n",
    "$$\n",
    "\\begin{bmatrix}\n",
    "1 & 1 & 1 & 1 & 1 & 1 \\\\\n",
    "1 & 0 & 0 & 0 & 0 & 1 \\\\\n",
    "1 & 0 & 0 & 0 & 0 & 1 \\\\\n",
    "1 & 0 & 0 & 0 & 0 & 1 \\\\\n",
    "1 & 0 & 0 & 0 & 0 & 1 \\\\\n",
    "1 & 1 & 1 & 1 & 1 & 1 \n",
    "\\end{bmatrix}\n",
    "$$"
   ]
  },
  {
   "cell_type": "code",
   "execution_count": 80,
   "id": "2515ea0a",
   "metadata": {},
   "outputs": [
    {
     "data": {
      "text/plain": [
       "array([[1, 1, 1, 1, 1, 1],\n",
       "       [1, 1, 1, 1, 1, 1],\n",
       "       [1, 1, 1, 1, 1, 1],\n",
       "       [1, 1, 1, 1, 1, 1],\n",
       "       [1, 1, 1, 1, 1, 1],\n",
       "       [1, 1, 1, 1, 1, 1]], dtype=int32)"
      ]
     },
     "execution_count": 80,
     "metadata": {},
     "output_type": "execute_result"
    }
   ],
   "source": [
    "matriz=np.random.randint(1,2,36).reshape(6,6)\n",
    "matriz"
   ]
  },
  {
   "cell_type": "code",
   "execution_count": 95,
   "id": "78665e6c",
   "metadata": {},
   "outputs": [
    {
     "name": "stdout",
     "output_type": "stream",
     "text": [
      "[[1 1 1 1 1 1]\n",
      " [1 0 0 0 1 1]\n",
      " [1 0 0 0 1 1]\n",
      " [1 0 0 0 1 1]\n",
      " [1 1 1 1 1 1]\n",
      " [1 1 1 1 1 1]]\n"
     ]
    }
   ],
   "source": [
    "#matriz = np.random.randint(1, 2, 36).reshape(6, 6)\n",
    "matriz[1:4,1:4] = 0\n",
    "print(matriz)\n",
    "\n"
   ]
  },
  {
   "cell_type": "code",
   "execution_count": null,
   "id": "a6870fd8",
   "metadata": {},
   "outputs": [],
   "source": []
  },
  {
   "cell_type": "code",
   "execution_count": null,
   "id": "a7c5842e",
   "metadata": {},
   "outputs": [],
   "source": []
  },
  {
   "cell_type": "markdown",
   "id": "016f0c96",
   "metadata": {},
   "source": [
    "### Ejercicio 6:\n",
    "- Obten la siguiente matriz usando **NumPy**:\n",
    "\n",
    "$$\n",
    "\\begin{bmatrix}\n",
    "0 & 0 & 0 & 0 & 0 & 0 & 0 & 0 & 0 & 0 \\\\\n",
    "0 & 1 & 1 & 1 & 1 & 1 & 1 & 1 & 1 & 0 \\\\\n",
    "0 & 1 & 0 & 0 & 0 & 0 & 0 & 0 & 1 & 0 \\\\\n",
    "0 & 1 & 0 & 1 & 1 & 1 & 1 & 0 & 1 & 0 \\\\\n",
    "0 & 1 & 0 & 1 & 0 & 0 & 1 & 0 & 1 & 0 \\\\\n",
    "0 & 1 & 0 & 1 & 0 & 0 & 1 & 0 & 1 & 0 \\\\\n",
    "0 & 1 & 0 & 1 & 1 & 1 & 1 & 0 & 1 & 0 \\\\\n",
    "0 & 1 & 0 & 0 & 0 & 0 & 0 & 0 & 1 & 0 \\\\\n",
    "0 & 1 & 1 & 1 & 1 & 1 & 1 & 1 & 1 & 0 \\\\\n",
    "0 & 0 & 0 & 0 & 0 & 0 & 0 & 0 & 0 & 0 \n",
    "\\end{bmatrix}\n",
    "$$"
   ]
  },
  {
   "cell_type": "code",
   "execution_count": 153,
   "id": "2a193f15",
   "metadata": {},
   "outputs": [
    {
     "name": "stdout",
     "output_type": "stream",
     "text": [
      "[[0 0 0 0 0 0 0 0 0 0]\n",
      " [0 1 1 1 1 1 1 1 1 0]\n",
      " [0 1 0 0 0 0 0 0 1 0]\n",
      " [0 1 0 1 1 1 1 0 1 0]\n",
      " [0 1 0 1 0 0 1 0 1 0]\n",
      " [0 1 0 1 0 0 1 0 1 0]\n",
      " [0 1 0 1 1 1 1 0 1 0]\n",
      " [0 1 0 0 0 0 0 0 1 0]\n",
      " [0 1 1 1 1 1 1 1 1 0]\n",
      " [0 0 0 0 0 0 0 0 0 0]]\n"
     ]
    }
   ],
   "source": [
    "matrizmezcla= np.random.randint(0,1,100).reshape(10,10)\n",
    "matrizmezcla [1:2,1:9] = 1\n",
    "matrizmezcla [8:9,1:9] = 1 \n",
    "matrizmezcla [2:8,1:2] = 1\n",
    "matrizmezcla [2:8,8:9] = 1\n",
    "matrizmezcla [3:4,3:7] = 1\n",
    "matrizmezcla [6:7,3:7] = 1\n",
    "matrizmezcla [3:7,3:4] = 1\n",
    "matrizmezcla [3:7,6:7] = 1\n",
    "print (matrizmezcla)"
   ]
  },
  {
   "cell_type": "code",
   "execution_count": null,
   "id": "8f2ec8d0",
   "metadata": {},
   "outputs": [],
   "source": []
  },
  {
   "cell_type": "code",
   "execution_count": 155,
   "id": "bf058ffc",
   "metadata": {},
   "outputs": [
    {
     "data": {
      "image/png": "[encoded data removed]",
      "text/plain": [
       "<Figure size 500x500 with 1 Axes>"
      ]
     },
     "metadata": {},
     "output_type": "display_data"
    }
   ],
   "source": [
    "plt.figure(figsize = (5, 5)) \n",
    "plt.imshow(matrizmezcla, cmap = \"gray\")\n",
    "plt.show()"
   ]
  },
  {
   "cell_type": "code",
   "execution_count": null,
   "id": "c1db9b7a",
   "metadata": {},
   "outputs": [],
   "source": []
  },
  {
   "cell_type": "markdown",
   "id": "cc4cd602",
   "metadata": {},
   "source": [
    "### Ejercicio 7:\n",
    "- Obten una matriz con dimensiones igual a (4, 7), el primer elemento de la matriz debe de ser el día de hoy y para los siguientes elementos los próximos días."
   ]
  },
  {
   "cell_type": "code",
   "execution_count": 174,
   "id": "9eecb8ff",
   "metadata": {},
   "outputs": [
    {
     "name": "stdout",
     "output_type": "stream",
     "text": [
      "[datetime.date(2025, 1, 3) datetime.date(2025, 1, 4)\n",
      " datetime.date(2025, 1, 5) datetime.date(2025, 1, 6)\n",
      " datetime.date(2025, 1, 7) datetime.date(2025, 1, 8)\n",
      " datetime.date(2025, 1, 9) datetime.date(2025, 1, 10)\n",
      " datetime.date(2025, 1, 11) datetime.date(2025, 1, 12)\n",
      " datetime.date(2025, 1, 13) datetime.date(2025, 1, 14)\n",
      " datetime.date(2025, 1, 15) datetime.date(2025, 1, 16)\n",
      " datetime.date(2025, 1, 17) datetime.date(2025, 1, 18)\n",
      " datetime.date(2025, 1, 19) datetime.date(2025, 1, 20)\n",
      " datetime.date(2025, 1, 21) datetime.date(2025, 1, 22)\n",
      " datetime.date(2025, 1, 23) datetime.date(2025, 1, 24)\n",
      " datetime.date(2025, 1, 25) datetime.date(2025, 1, 26)\n",
      " datetime.date(2025, 1, 27) datetime.date(2025, 1, 28)\n",
      " datetime.date(2025, 1, 29) datetime.date(2025, 1, 30)]\n"
     ]
    }
   ],
   "source": [
    "hoy = datetime.today().date()\n",
    "\n",
    "dias= np.array([hoy + timedelta(days=i) for i in range(4*7)])\n",
    "print (dias)"
   ]
  },
  {
   "cell_type": "code",
   "execution_count": 177,
   "id": "683192b0",
   "metadata": {},
   "outputs": [
    {
     "name": "stdout",
     "output_type": "stream",
     "text": [
      "[[datetime.date(2025, 1, 3) datetime.date(2025, 1, 4)\n",
      "  datetime.date(2025, 1, 5) datetime.date(2025, 1, 6)\n",
      "  datetime.date(2025, 1, 7) datetime.date(2025, 1, 8)\n",
      "  datetime.date(2025, 1, 9)]\n",
      " [datetime.date(2025, 1, 10) datetime.date(2025, 1, 11)\n",
      "  datetime.date(2025, 1, 12) datetime.date(2025, 1, 13)\n",
      "  datetime.date(2025, 1, 14) datetime.date(2025, 1, 15)\n",
      "  datetime.date(2025, 1, 16)]\n",
      " [datetime.date(2025, 1, 17) datetime.date(2025, 1, 18)\n",
      "  datetime.date(2025, 1, 19) datetime.date(2025, 1, 20)\n",
      "  datetime.date(2025, 1, 21) datetime.date(2025, 1, 22)\n",
      "  datetime.date(2025, 1, 23)]\n",
      " [datetime.date(2025, 1, 24) datetime.date(2025, 1, 25)\n",
      "  datetime.date(2025, 1, 26) datetime.date(2025, 1, 27)\n",
      "  datetime.date(2025, 1, 28) datetime.date(2025, 1, 29)\n",
      "  datetime.date(2025, 1, 30)]]\n"
     ]
    }
   ],
   "source": [
    "matriz_dias= dias.reshape(4,7)\n",
    "print (matriz_dias)"
   ]
  },
  {
   "cell_type": "markdown",
   "id": "57672473",
   "metadata": {},
   "source": [
    "### Ejercicio 8:\n",
    "- Repite el ejercicio anterior pero el día de hoy debe de iniciar en la celda [0][4] y para los siguientes elementos los próximos días. Respecto a los elementos [0][0:4], agrega los días anteriores al día de hoy."
   ]
  },
  {
   "cell_type": "code",
   "execution_count": null,
   "id": "2a8e5056",
   "metadata": {},
   "outputs": [],
   "source": []
  },
  {
   "cell_type": "code",
   "execution_count": null,
   "id": "fa782469",
   "metadata": {},
   "outputs": [],
   "source": []
  },
  {
   "cell_type": "code",
   "execution_count": null,
   "id": "83252081",
   "metadata": {},
   "outputs": [],
   "source": []
  },
  {
   "cell_type": "markdown",
   "id": "43e06b36",
   "metadata": {},
   "source": [
    "### Ejercicio 9:\n",
    "- Obten el calendario de julio como se muestra en la imagen:\n",
    "\n",
    "$$\n",
    "\\begin{bmatrix}\n",
    "28 & 29 & 30 & 1 & 2 & 3 & 4 \\\\\n",
    "5 & 6 & 7 & 8 & 9 & 10 & 11 \\\\\n",
    "12 & 13 & 14 & 15 & 16 & 17 & 18 \\\\\n",
    "19 & 20 & 21 & 22 & 23 & 24 & 25 \\\\\n",
    "26 & 27 & 28 & 29 & 30 & 31 & 1 \\\\\n",
    "2 & 3 & 4 & 5 & 6 & 7 & 8\n",
    "\\end{bmatrix}\n",
    "$$"
   ]
  },
  {
   "cell_type": "code",
   "execution_count": 186,
   "id": "cbade4cb",
   "metadata": {},
   "outputs": [
    {
     "name": "stdout",
     "output_type": "stream",
     "text": [
      "[[28 29 30  1  2  3  4]\n",
      " [ 5  6  7  8  9 10 11]\n",
      " [12 13 14 15 16 17 18]\n",
      " [19 20 21 22 23 24 25]\n",
      " [26 27 28 29 30 31  1]\n",
      " [ 2  3  4  5  6  7  8]]\n"
     ]
    }
   ],
   "source": [
    "\n",
    "\n",
    "inicio_julio = datetime.date(2023, 6, 1)\n",
    "dia_inicio = inicio_julio.weekday()  \n",
    "dias = np.arange(1- dia_inicio, 43 - dia_inicio)  \n",
    "dias = np.where(dias < 1, dias + 30, dias) \n",
    "dias = np.where(dias > 31, dias - 31, dias) \n",
    "calendario = dias.reshape(6, 7)\n",
    "\n",
    "print(calendario)\n"
   ]
  },
  {
   "cell_type": "code",
   "execution_count": null,
   "id": "1dd52f12",
   "metadata": {},
   "outputs": [],
   "source": []
  },
  {
   "cell_type": "code",
   "execution_count": null,
   "id": "330c4e0b",
   "metadata": {},
   "outputs": [],
   "source": []
  },
  {
   "cell_type": "markdown",
   "id": "ee0c773e",
   "metadata": {},
   "source": [
    "### Ejercicio 10:\n",
    "- Obten una matriz con el calendario de junio, julio y agosto, como se muestra en la imagen:\n",
    "\n",
    "$$\n",
    "\\begin{bmatrix}\n",
    "31 & 1 & 2 & 3 & 4 & 5 & 6 \\\\\n",
    "7 & 8 & 9 & 10 & 11 & 12 & 13 \\\\\n",
    "14 & 15 & 16 & 17 & 18 & 19 & 20 \\\\\n",
    "21 & 22 & 23 & 24 & 25 & 26 & 27 \\\\\n",
    "28 & 29 & 30 & 1 & 2 & 3 & 4 \\\\\n",
    "5 & 6 & 7 & 8 & 9 & 10 & 11 \\\\\n",
    "12 & 13 & 14 & 15 & 16 & 17 & 18 \\\\\n",
    "19 & 20 & 21 & 22 & 23 & 24 & 25 \\\\\n",
    "26 & 27 & 28 & 29 & 30 & 31 & 1 \\\\\n",
    "2 & 3 & 4 & 5 & 6 & 7 & 8 \\\\\n",
    "9 & 10 & 11 & 12 & 13 & 14 & 15 \\\\\n",
    "16 & 17 & 18 & 19 & 20 & 21 & 22 \\\\\n",
    "23 & 24 & 25 & 26 & 27 & 28 & 29 \\\\\n",
    "30 & 31 & 1 & 2 & 3 & 4 & 5\n",
    "\\end{bmatrix}\n",
    "$$"
   ]
  },
  {
   "cell_type": "code",
   "execution_count": 234,
   "id": "c7053854",
   "metadata": {},
   "outputs": [
    {
     "name": "stdout",
     "output_type": "stream",
     "text": [
      "[[29 30  1  2  3  4  5]\n",
      " [ 6  7  8  9 10 11 12]\n",
      " [13 14 15 16 17 18 19]\n",
      " [20 21 22 23 24 25 26]\n",
      " [27 28 29 30  1  2  3]\n",
      " [ 4  5  6  7  8  9 10]\n",
      " [11 12 13 14 15 16 17]\n",
      " [18 19 20 21 22 23 24]\n",
      " [25 26 27 28 29 30 31]\n",
      " [ 1  2  3  4  5  6  7]\n",
      " [ 8  9 10 11 12 13 14]\n",
      " [15 16 17 18 19 20 21]\n",
      " [22 23 24 25 26 27 28]\n",
      " [29 30 31 32 33 34 35]]\n"
     ]
    }
   ],
   "source": [
    "\n",
    "inicio_junio = datetime.date(2023, 5, 31)\n",
    "dia_inicio = inicio_junio.weekday()  \n",
    "dias = np.arange(1- dia_inicio, 99 - dia_inicio)\n",
    "dias = np.where(dias < 1, dias + 30, dias)\n",
    "dias = np.where(dias > 31, dias + 31, dias) \n",
    "dias = np.where(dias > 30, dias - 30, dias)\n",
    "dias = np.where(dias > 31, dias - 31, dias)\n",
    "dias = np.where(dias > 31, dias - 31, dias) \n",
    "\n",
    "calendario = dias.reshape(14, 7)\n",
    "\n",
    "print(calendario)"
   ]
  },
  {
   "cell_type": "code",
   "execution_count": 235,
   "id": "44d70499",
   "metadata": {},
   "outputs": [
    {
     "name": "stdout",
     "output_type": "stream",
     "text": [
      "[[31  1  2  3  4  5  6]\n",
      " [ 7  8  9 10 11 12 13]\n",
      " [14 15 16 17 18 19 20]\n",
      " [21 22 23 24 25 26 27]\n",
      " [28 29 30  1  2  3  4]\n",
      " [ 5  6  7  8  9 10 11]\n",
      " [12 13 14 15 16 17 18]\n",
      " [19 20 21 22 23 24 25]\n",
      " [26 27 28 29 30 31  1]\n",
      " [ 2  3  4  5  6  7  8]\n",
      " [ 9 10 11 12 13 14 15]\n",
      " [16 17 18 19 20 21 22]\n",
      " [23 24 25 26 27 28 29]\n",
      " [30 31  1  2  3  4  5]]\n"
     ]
    }
   ],
   "source": [
    "\n",
    "inicio = datetime.date(2023, 5, 31)\n",
    "dias = np.array([(inicio + datetime.timedelta(days=i)).day for i in range(98)])\n",
    "calendario = dias.reshape(14, 7)\n",
    "\n",
    "print(calendario)\n"
   ]
  },
  {
   "cell_type": "code",
   "execution_count": null,
   "id": "072240ca",
   "metadata": {},
   "outputs": [],
   "source": []
  },
  {
   "cell_type": "markdown",
   "id": "5b8a6c12",
   "metadata": {},
   "source": [
    "### Ejercicio 11:\n",
    "- A partir de la matriz anterior obten la matriz de junio, julio y agosto haciendo slicing. Guarda cada mes en una variable."
   ]
  },
  {
   "cell_type": "code",
   "execution_count": 244,
   "id": "507c6050",
   "metadata": {},
   "outputs": [
    {
     "name": "stdout",
     "output_type": "stream",
     "text": [
      "Calendario:\n",
      "[[31  1  2  3  4  5  6]\n",
      " [ 7  8  9 10 11 12 13]\n",
      " [14 15 16 17 18 19 20]\n",
      " [21 22 23 24 25 26 27]\n",
      " [28 29 30  1  2  3  4]\n",
      " [ 5  6  7  8  9 10 11]\n",
      " [12 13 14 15 16 17 18]\n",
      " [19 20 21 22 23 24 25]\n",
      " [26 27 28 29 30 31  1]\n",
      " [ 2  3  4  5  6  7  8]\n",
      " [ 9 10 11 12 13 14 15]\n",
      " [16 17 18 19 20 21 22]\n",
      " [23 24 25 26 27 28 29]\n",
      " [30 31  1  2  3  4  5]]\n",
      "Junio:\n",
      "[[31  1  2  3  4  5  6]\n",
      " [ 7  8  9 10 11 12 13]\n",
      " [14 15 16 17 18 19 20]\n",
      " [21 22 23 24 25 26 27]\n",
      " [28 29 30  1  2  3  4]]\n",
      "Julio:\n",
      "[[28 29 30  1  2  3  4]\n",
      " [ 5  6  7  8  9 10 11]\n",
      " [12 13 14 15 16 17 18]\n",
      " [19 20 21 22 23 24 25]\n",
      " [26 27 28 29 30 31  1]]\n",
      "Agosto:\n",
      "[[26 27 28 29 30 31  1]\n",
      " [ 2  3  4  5  6  7  8]\n",
      " [ 9 10 11 12 13 14 15]\n",
      " [16 17 18 19 20 21 22]\n",
      " [23 24 25 26 27 28 29]]\n"
     ]
    }
   ],
   "source": [
    "junio = calendario [0:5,:]\n",
    "julio= calendario [4:9,:]\n",
    "agosto= calendario[ 8:13,:]  \n",
    "\n",
    "\n",
    "print (\"Calendario:\")\n",
    "print (calendario)\n",
    "print (\"Junio:\")\n",
    "print (junio)\n",
    "print (\"Julio:\")\n",
    "print (julio)\n",
    "print (\"Agosto:\")\n",
    "print (agosto)\n"
   ]
  },
  {
   "cell_type": "code",
   "execution_count": null,
   "id": "b2c2d876",
   "metadata": {},
   "outputs": [],
   "source": []
  },
  {
   "cell_type": "code",
   "execution_count": null,
   "id": "f1f75763",
   "metadata": {},
   "outputs": [],
   "source": []
  },
  {
   "cell_type": "markdown",
   "id": "cd718614",
   "metadata": {},
   "source": [
    "### Ejercicio 12:\n",
    "- Suma las matrices de junio y julio, aplica la transpuesta, convierte la matriz en un vector, obten la suma acumulada del vector y divide todos los elementos entre el valor máximo del vector."
   ]
  },
  {
   "cell_type": "code",
   "execution_count": 246,
   "id": "8c0d365a",
   "metadata": {},
   "outputs": [
    {
     "data": {
      "text/plain": [
       "[array([[31,  1,  2,  3,  4,  5,  6],\n",
       "        [ 7,  8,  9, 10, 11, 12, 13],\n",
       "        [14, 15, 16, 17, 18, 19, 20],\n",
       "        [21, 22, 23, 24, 25, 26, 27],\n",
       "        [28, 29, 30,  1,  2,  3,  4]]),\n",
       " array([[28, 29, 30,  1,  2,  3,  4],\n",
       "        [ 5,  6,  7,  8,  9, 10, 11],\n",
       "        [12, 13, 14, 15, 16, 17, 18],\n",
       "        [19, 20, 21, 22, 23, 24, 25],\n",
       "        [26, 27, 28, 29, 30, 31,  1]])]"
      ]
     },
     "execution_count": 246,
     "metadata": {},
     "output_type": "execute_result"
    }
   ],
   "source": [
    "suma= [junio]+[julio]\n",
    "suma"
   ]
  },
  {
   "cell_type": "code",
   "execution_count": 253,
   "id": "ecdbb755",
   "metadata": {},
   "outputs": [
    {
     "data": {
      "text/plain": [
       "array([[[31, 28],\n",
       "        [ 7,  5],\n",
       "        [14, 12],\n",
       "        [21, 19],\n",
       "        [28, 26]],\n",
       "\n",
       "       [[ 1, 29],\n",
       "        [ 8,  6],\n",
       "        [15, 13],\n",
       "        [22, 20],\n",
       "        [29, 27]],\n",
       "\n",
       "       [[ 2, 30],\n",
       "        [ 9,  7],\n",
       "        [16, 14],\n",
       "        [23, 21],\n",
       "        [30, 28]],\n",
       "\n",
       "       [[ 3,  1],\n",
       "        [10,  8],\n",
       "        [17, 15],\n",
       "        [24, 22],\n",
       "        [ 1, 29]],\n",
       "\n",
       "       [[ 4,  2],\n",
       "        [11,  9],\n",
       "        [18, 16],\n",
       "        [25, 23],\n",
       "        [ 2, 30]],\n",
       "\n",
       "       [[ 5,  3],\n",
       "        [12, 10],\n",
       "        [19, 17],\n",
       "        [26, 24],\n",
       "        [ 3, 31]],\n",
       "\n",
       "       [[ 6,  4],\n",
       "        [13, 11],\n",
       "        [20, 18],\n",
       "        [27, 25],\n",
       "        [ 4,  1]]])"
      ]
     },
     "execution_count": 253,
     "metadata": {},
     "output_type": "execute_result"
    }
   ],
   "source": [
    "suma_np = np.array (suma).transpose()\n",
    "suma_np"
   ]
  },
  {
   "cell_type": "code",
   "execution_count": 263,
   "id": "05f28219",
   "metadata": {},
   "outputs": [
    {
     "data": {
      "text/plain": [
       "array([31, 28,  7,  5, 14, 12, 21, 19, 28, 26,  1, 29,  8,  6, 15, 13, 22,\n",
       "       20, 29, 27,  2, 30,  9,  7, 16, 14, 23, 21, 30, 28,  3,  1, 10,  8,\n",
       "       17, 15, 24, 22,  1, 29,  4,  2, 11,  9, 18, 16, 25, 23,  2, 30,  5,\n",
       "        3, 12, 10, 19, 17, 26, 24,  3, 31,  6,  4, 13, 11, 20, 18, 27, 25,\n",
       "        4,  1])"
      ]
     },
     "execution_count": 263,
     "metadata": {},
     "output_type": "execute_result"
    }
   ],
   "source": [
    "suma_vect = np.ravel(suma_np)"
   ]
  },
  {
   "cell_type": "code",
   "execution_count": 264,
   "id": "08c8559f",
   "metadata": {},
   "outputs": [
    {
     "data": {
      "text/plain": [
       "array([  31,   59,   66,   71,   85,   97,  118,  137,  165,  191,  192,\n",
       "        221,  229,  235,  250,  263,  285,  305,  334,  361,  363,  393,\n",
       "        402,  409,  425,  439,  462,  483,  513,  541,  544,  545,  555,\n",
       "        563,  580,  595,  619,  641,  642,  671,  675,  677,  688,  697,\n",
       "        715,  731,  756,  779,  781,  811,  816,  819,  831,  841,  860,\n",
       "        877,  903,  927,  930,  961,  967,  971,  984,  995, 1015, 1033,\n",
       "       1060, 1085, 1089, 1090])"
      ]
     },
     "execution_count": 264,
     "metadata": {},
     "output_type": "execute_result"
    }
   ],
   "source": [
    "suma_vect.cumsum()"
   ]
  },
  {
   "cell_type": "code",
   "execution_count": 269,
   "id": "51915747",
   "metadata": {},
   "outputs": [
    {
     "data": {
      "text/plain": [
       "np.int64(31)"
      ]
     },
     "execution_count": 269,
     "metadata": {},
     "output_type": "execute_result"
    }
   ],
   "source": [
    "max_vect= suma_vect.max()\n",
    "max_vect"
   ]
  },
  {
   "cell_type": "code",
   "execution_count": 272,
   "id": "d49b072f",
   "metadata": {},
   "outputs": [
    {
     "name": "stdout",
     "output_type": "stream",
     "text": [
      "[1.         0.90322581 0.22580645 0.16129032 0.4516129  0.38709677\n",
      " 0.67741935 0.61290323 0.90322581 0.83870968 0.03225806 0.93548387\n",
      " 0.25806452 0.19354839 0.48387097 0.41935484 0.70967742 0.64516129\n",
      " 0.93548387 0.87096774 0.06451613 0.96774194 0.29032258 0.22580645\n",
      " 0.51612903 0.4516129  0.74193548 0.67741935 0.96774194 0.90322581\n",
      " 0.09677419 0.03225806 0.32258065 0.25806452 0.5483871  0.48387097\n",
      " 0.77419355 0.70967742 0.03225806 0.93548387 0.12903226 0.06451613\n",
      " 0.35483871 0.29032258 0.58064516 0.51612903 0.80645161 0.74193548\n",
      " 0.06451613 0.96774194 0.16129032 0.09677419 0.38709677 0.32258065\n",
      " 0.61290323 0.5483871  0.83870968 0.77419355 0.09677419 1.\n",
      " 0.19354839 0.12903226 0.41935484 0.35483871 0.64516129 0.58064516\n",
      " 0.87096774 0.80645161 0.12903226 0.03225806]\n"
     ]
    }
   ],
   "source": [
    "division = suma_vect/max_vect\n",
    "print (division)"
   ]
  },
  {
   "cell_type": "markdown",
   "id": "0279df62",
   "metadata": {},
   "source": [
    "### Ejercicio 13:\n",
    "- Escribe un código que se pueda utilizar para generar este tipo de matrices automaticamente y aumenta la dimension de la matriz para observar los resultados como en la figura.\n",
    "\n",
    "$$\n",
    "\\begin{bmatrix}\n",
    "0 & 0 & 0 & 0 & 0 & 0 & 0 & 0 & 0 & 0 & 0 & 0 & 0 & 0 & 0 & 0 \\\\\n",
    "0 & 1 & 1 & 1 & 1 & 1 & 1 & 1 & 1 & 1 & 1 & 1 & 1 & 1 & 1 & 0 \\\\\n",
    "0 & 1 & 0 & 0 & 0 & 0 & 0 & 0 & 0 & 0 & 0 & 0 & 0 & 0 & 1 & 0 \\\\\n",
    "0 & 1 & 0 & 1 & 1 & 1 & 1 & 1 & 1 & 1 & 1 & 1 & 1 & 0 & 1 & 0 \\\\\n",
    "0 & 1 & 0 & 1 & 0 & 0 & 0 & 0 & 0 & 0 & 0 & 0 & 1 & 0 & 1 & 0 \\\\\n",
    "0 & 1 & 0 & 1 & 0 & 1 & 1 & 1 & 1 & 1 & 1 & 0 & 1 & 0 & 1 & 0 \\\\\n",
    "0 & 1 & 0 & 1 & 0 & 1 & 0 & 0 & 0 & 0 & 1 & 0 & 1 & 0 & 1 & 0 \\\\\n",
    "0 & 1 & 0 & 1 & 0 & 1 & 0 & 0 & 0 & 0 & 1 & 0 & 1 & 0 & 1 & 0 \\\\\n",
    "0 & 1 & 0 & 1 & 0 & 1 & 0 & 0 & 0 & 0 & 1 & 0 & 1 & 0 & 1 & 0 \\\\\n",
    "0 & 1 & 0 & 1 & 0 & 1 & 0 & 0 & 0 & 0 & 1 & 0 & 1 & 0 & 1 & 0 \\\\\n",
    "0 & 1 & 0 & 1 & 0 & 1 & 1 & 1 & 1 & 1 & 1 & 0 & 1 & 0 & 1 & 0 \\\\\n",
    "0 & 1 & 0 & 1 & 0 & 0 & 0 & 0 & 0 & 0 & 0 & 0 & 1 & 0 & 1 & 0 \\\\\n",
    "0 & 1 & 0 & 1 & 1 & 1 & 1 & 1 & 1 & 1 & 1 & 1 & 1 & 0 & 1 & 0 \\\\\n",
    "0 & 1 & 0 & 0 & 0 & 0 & 0 & 0 & 0 & 0 & 0 & 0 & 0 & 0 & 1 & 0 \\\\\n",
    "0 & 1 & 1 & 1 & 1 & 1 & 1 & 1 & 1 & 1 & 1 & 1 & 1 & 1 & 1 & 0 \\\\\n",
    "0 & 0 & 0 & 0 & 0 & 0 & 0 & 0 & 0 & 0 & 0 & 0 & 0 & 0 & 0 & 0\n",
    "\\end{bmatrix}\n",
    "$$"
   ]
  },
  {
   "attachments": {
    "numpy_7.png": {
     "image/png": "[encoded data removed]"
    }
   },
   "cell_type": "markdown",
   "id": "688a7a47",
   "metadata": {},
   "source": [
    "![numpy_7.png](attachment:numpy_7.png)"
   ]
  },
  {
   "cell_type": "code",
   "execution_count": 260,
   "id": "3122e1b5",
   "metadata": {},
   "outputs": [
    {
     "name": "stdout",
     "output_type": "stream",
     "text": [
      "[[0 0 0 0 0 0 0 0]\n",
      " [0 1 1 1 1 1 1 0]\n",
      " [0 1 1 0 1 0 1 0]\n",
      " [0 1 0 1 0 1 1 0]\n",
      " [0 1 1 0 1 0 1 0]\n",
      " [0 1 0 1 0 1 1 0]\n",
      " [0 1 1 1 1 1 1 0]\n",
      " [0 0 0 0 0 0 0 0]]\n"
     ]
    }
   ],
   "source": [
    "import numpy as np\n",
    "\n",
    "def generar_matriz_patron(n: int):\n",
    "    matriz = np.zeros((n, n), dtype=int)\n",
    "    matriz[0, :] = 0\n",
    "    matriz[-1, :] = 0 \n",
    "    matriz[:, 0] = 0 \n",
    "    matriz[:, -1] = 0  \n",
    "    \n",
    "    matriz[1, 1:-1] = 1  \n",
    "    matriz[-2, 1:-1] = 1 \n",
    "    matriz[1:-1, 1] = 1 \n",
    "    matriz[1:-1, -2] = 1 \n",
    "    \n",
    "    for i in range(2, n-2):\n",
    "        for j in range(2, n-2):\n",
    "            if (i % 2 == 0 and j % 2 == 0) or (i % 2 == 1 and j % 2 == 1):\n",
    "                matriz[i, j] = 1\n",
    "    \n",
    "    return matriz\n",
    "\n",
    "n = 8\n",
    "matriz_patron = generar_matriz_patron(n)\n",
    "\n",
    "print(matriz_patron)\n"
   ]
  },
  {
   "cell_type": "code",
   "execution_count": 278,
   "id": "8118ec25",
   "metadata": {},
   "outputs": [
    {
     "data": {
      "image/png": "[encoded data removed]",
      "text/plain": [
       "<Figure size 500x500 with 1 Axes>"
      ]
     },
     "metadata": {},
     "output_type": "display_data"
    }
   ],
   "source": [
    "plt.figure(figsize = (5, 5)) \n",
    "plt.imshow(matriz_patron, cmap = \"binary\")  \n",
    "plt.show()"
   ]
  },
  {
   "cell_type": "markdown",
   "id": "7cd90e58",
   "metadata": {},
   "source": [
    "################################################################################################################################"
   ]
  }
 ],
 "metadata": {
  "kernelspec": {
   "display_name": "Python 3",
   "language": "python",
   "name": "python3"
  },
  "language_info": {
   "codemirror_mode": {
    "name": "ipython",
    "version": 3
   },
   "file_extension": ".py",
   "mimetype": "text/x-python",
   "name": "python",
   "nbconvert_exporter": "python",
   "pygments_lexer": "ipython3",
   "version": "3.12.6"
  }
 },
 "nbformat": 4,
 "nbformat_minor": 5
}
