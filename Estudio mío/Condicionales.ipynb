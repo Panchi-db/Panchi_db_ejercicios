{
 "cells": [
  {
   "cell_type": "markdown",
   "metadata": {},
   "source": [
    "##Condicionales"
   ]
  },
  {
   "cell_type": "markdown",
   "metadata": {},
   "source": [
    "if : condicional. si se da una condicion que se introduce como variable hace algo. Si no, hace otra cosa o no hace nada. "
   ]
  },
  {
   "cell_type": "markdown",
   "metadata": {},
   "source": [
    "else: segunda y última condición despues de IF.  "
   ]
  },
  {
   "cell_type": "code",
   "execution_count": null,
   "metadata": {},
   "outputs": [],
   "source": [
    "# Crear un bucle while True que pida el número hasta que esté bien (hace break y sales del bucle) y sea mayor que 0\n",
    "try:\n",
    "    numero = int(input(\"Ingrese un número mayor que 0\"))\n",
    "except ValueError:\n",
    "    print(\"numero incorrecto\")"
   ]
  },
  {
   "cell_type": "code",
   "execution_count": 46,
   "metadata": {},
   "outputs": [
    {
     "name": "stdout",
     "output_type": "stream",
     "text": [
      "Bien Hecho\n",
      "El numero 4 es par\n"
     ]
    }
   ],
   "source": [
    "while True:\n",
    "    try:\n",
    "        numero = int(input(\"introduce un num entre 1 y 50\"))\n",
    "        if numero >=1 and numero < 50:\n",
    "            print(\"Bien Hecho\")\n",
    "            break\n",
    "    except ValueError:\n",
    "        print(\"numero incorrecto\")\n",
    "        \n",
    "if numero %2 == 0:\n",
    "    print (f\"El numero {numero} es par\")\n",
    "else:\n",
    "    print (f\"el numero {numero} es impar\")\n",
    "\n"
   ]
  },
  {
   "cell_type": "code",
   "execution_count": null,
   "metadata": {},
   "outputs": [],
   "source": [
    "while True:\n",
    "    argumento = input(\"Ingrese un numero mayor a 0\")\n",
    "    try:\n",
    "        numero = int(argumento)\n",
    "    except:\n",
    "        numero = -1\n",
    "    if numero <= 0:\n",
    "        print(f\"{argumento} no es un valor correcto\")\n",
    "    else:\n",
    "        if numero % 2 == 0:\n",
    "            print(f\"{argumento} es par\")\n",
    "        else:\n",
    "            print(f\"{argumento} es impar\")\n",
    "        break"
   ]
  },
  {
   "cell_type": "code",
   "execution_count": null,
   "metadata": {},
   "outputs": [],
   "source": [
    "\n",
    "while True:\n",
    "    try:\n",
    "\n",
    "        numero = input(\"Ingrese un número mayor que 0: \")\n",
    "        \n",
    "        if not numero.strip():\n",
    "            \n",
    "            print(\"Entrada vacía. Por favor, ingrese un número válido.\")      \n",
    "          \n",
    "        numero = int(numero)\n",
    "        \n",
    "        if numero > 0:\n",
    "            break \n",
    "        else:\n",
    "            print(\"El número debe ser mayor que 0. Inténtalo de nuevo.\")\n",
    "            \n",
    "    except ValueError:\n",
    "        \n",
    "        print(\"Entrada no válida. Por favor, ingrese un número entero.\")\n",
    "\n",
    "if numero % 2 == 0:\n",
    "    print(f\"El número {numero} es par.\")\n",
    "else:\n",
    "    print(f\"El número {numero} es impar.\")"
   ]
  }
 ],
 "metadata": {
  "kernelspec": {
   "display_name": "Python 3",
   "language": "python",
   "name": "python3"
  },
  "language_info": {
   "codemirror_mode": {
    "name": "ipython",
    "version": 3
   },
   "file_extension": ".py",
   "mimetype": "text/x-python",
   "name": "python",
   "nbconvert_exporter": "python",
   "pygments_lexer": "ipython3",
   "version": "3.12.6"
  }
 },
 "nbformat": 4,
 "nbformat_minor": 2
}
