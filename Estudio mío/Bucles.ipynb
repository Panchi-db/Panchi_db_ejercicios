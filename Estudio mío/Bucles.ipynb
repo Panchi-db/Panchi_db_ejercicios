{
 "cells": [
  {
   "cell_type": "markdown",
   "metadata": {},
   "source": [
    " *#BUCLES #WHILE #FOR"
   ]
  },
  {
   "cell_type": "code",
   "execution_count": null,
   "metadata": {},
   "outputs": [],
   "source": [
    "Bucle"
   ]
  },
  {
   "cell_type": "markdown",
   "metadata": {},
   "source": [
    "Mientras se cumpla una condicion, se ejecuta."
   ]
  },
  {
   "cell_type": "markdown",
   "metadata": {},
   "source": [
    "input: El usuario debe ingresar agun dato"
   ]
  },
  {
   "cell_type": "markdown",
   "metadata": {},
   "source": [
    "Break: Rompe el bucle."
   ]
  },
  {
   "cell_type": "code",
   "execution_count": 1,
   "metadata": {},
   "outputs": [
    {
     "name": "stdout",
     "output_type": "stream",
     "text": [
      "\n",
      "Bienvenido a app:\n",
      "1. Ver productos\n",
      "2. Crear producto\n",
      "3. Salir\n",
      "\n",
      "Mostrando productos...\n",
      "\n",
      "Bienvenido a app:\n",
      "1. Ver productos\n",
      "2. Crear producto\n",
      "3. Salir\n",
      "\n",
      "Has elegido crear un producto\n",
      "\n",
      "Bienvenido a app:\n",
      "1. Ver productos\n",
      "2. Crear producto\n",
      "3. Salir\n",
      "\n"
     ]
    }
   ],
   "source": [
    "menu = \"\"\"\n",
    "Bienvenido a app:\n",
    "1. Ver productos\n",
    "2. Crear producto\n",
    "3. Salir\n",
    "\"\"\"\n",
    "option = 0\n",
    "while True: # bucle infinito\n",
    "    print(menu)\n",
    "    option = int(input(\"Introduce una opción\"))\n",
    "    if option == 1:\n",
    "        print('Mostrando productos...')\n",
    "    elif option == 2:\n",
    "        print('Has elegido crear un producto')\n",
    "    elif option == 3:\n",
    "        break"
   ]
  },
  {
   "cell_type": "markdown",
   "metadata": {},
   "source": [
    "Ejemplo equivalente a WHILE"
   ]
  },
  {
   "cell_type": "code",
   "execution_count": 3,
   "metadata": {},
   "outputs": [
    {
     "name": "stdout",
     "output_type": "stream",
     "text": [
      "1\n"
     ]
    }
   ],
   "source": [
    "option = 1\n",
    "match option:\n",
    "    case 1:\n",
    "        print(1)\n",
    "    case 2:\n",
    "        print (2)"
   ]
  },
  {
   "cell_type": "markdown",
   "metadata": {},
   "source": [
    "#bucle anidado (ejemplo). En el primer rango va metiendo el segundo."
   ]
  },
  {
   "cell_type": "code",
   "execution_count": 4,
   "metadata": {},
   "outputs": [
    {
     "name": "stdout",
     "output_type": "stream",
     "text": [
      "0 0\n",
      "0 1\n",
      "0 2\n",
      "0 3\n",
      "0 4\n",
      "1 0\n",
      "1 1\n",
      "1 2\n",
      "1 3\n",
      "1 4\n",
      "2 0\n",
      "2 1\n",
      "2 2\n",
      "2 3\n",
      "2 4\n",
      "3 0\n",
      "3 1\n",
      "3 2\n",
      "3 3\n",
      "3 4\n",
      "4 0\n",
      "4 1\n",
      "4 2\n",
      "4 3\n",
      "4 4\n"
     ]
    }
   ],
   "source": [
    "for i in range (5):\n",
    "    for j in range (5):\n",
    "        print (i, j)"
   ]
  },
  {
   "cell_type": "markdown",
   "metadata": {},
   "source": [
    "ZIP Itera por las dos listas a la vez. Combina."
   ]
  },
  {
   "cell_type": "code",
   "execution_count": 5,
   "metadata": {},
   "outputs": [
    {
     "name": "stdout",
     "output_type": "stream",
     "text": [
      "0 0\n",
      "1 1\n",
      "2 2\n",
      "3 3\n",
      "4 4\n"
     ]
    }
   ],
   "source": [
    "for i, j, in zip (range(5), range(5)):\n",
    "    print (i,j)"
   ]
  }
 ],
 "metadata": {
  "kernelspec": {
   "display_name": "Python 3",
   "language": "python",
   "name": "python3"
  },
  "language_info": {
   "codemirror_mode": {
    "name": "ipython",
    "version": 3
   },
   "file_extension": ".py",
   "mimetype": "text/x-python",
   "name": "python",
   "nbconvert_exporter": "python",
   "pygments_lexer": "ipython3",
   "version": "3.12.6"
  }
 },
 "nbformat": 4,
 "nbformat_minor": 2
}
