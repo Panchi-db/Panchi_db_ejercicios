{
 "cells": [
  {
   "cell_type": "markdown",
   "id": "689c1a0e",
   "metadata": {},
   "source": [
    "## Ejercicios - Lists"
   ]
  },
  {
   "cell_type": "code",
   "execution_count": 396,
   "id": "29b1adca",
   "metadata": {},
   "outputs": [],
   "source": [
    "lista = [\"a\", \"b\", \"c\", \"d\", \"e\", 1, 2, 3, 4, 5, False, True]"
   ]
  },
  {
   "cell_type": "markdown",
   "id": "3a92774b",
   "metadata": {},
   "source": [
    "### Ejercicio 1\n",
    "- En listas separadas obtener una lista paras los caracteres, otra para los enteros y otra para lo booleanos, utilizando slicing.\n",
    "- Llamalas **lista_1**, **lista_2**, **lista_3** respectivamente."
   ]
  },
  {
   "cell_type": "code",
   "execution_count": 397,
   "id": "d8846c0d",
   "metadata": {},
   "outputs": [],
   "source": [
    "lista_1= lista[0:5]\n",
    "lista_2= lista[5:10]\n",
    "lista_3= lista[10:]"
   ]
  },
  {
   "cell_type": "code",
   "execution_count": 398,
   "id": "b869534e",
   "metadata": {},
   "outputs": [
    {
     "name": "stdout",
     "output_type": "stream",
     "text": [
      "['a', 'b', 'c', 'd', 'e']\n",
      "[1, 2, 3, 4, 5]\n",
      "[False, True]\n"
     ]
    }
   ],
   "source": [
    "print (lista_1)\n",
    "print (lista_2)\n",
    "print (lista_3)"
   ]
  },
  {
   "cell_type": "code",
   "execution_count": null,
   "id": "f633c099",
   "metadata": {},
   "outputs": [],
   "source": []
  },
  {
   "cell_type": "markdown",
   "id": "2c73b574",
   "metadata": {},
   "source": [
    "### Ejercicio 2\n",
    "- Insertar las vocales faltantes a la lista de caracteres."
   ]
  },
  {
   "cell_type": "code",
   "execution_count": 399,
   "id": "7ff75b01",
   "metadata": {},
   "outputs": [],
   "source": [
    "#Agrega como un único elemento, una lista con las vocales.\n",
    "lista.append([\"i\",\"o\",\"u\"])"
   ]
  },
  {
   "cell_type": "code",
   "execution_count": 400,
   "id": "58d18658",
   "metadata": {},
   "outputs": [
    {
     "name": "stdout",
     "output_type": "stream",
     "text": [
      "['a', 'b', 'c', 'd', 'e', 1, 2, 3, 4, 5, False, True, ['i', 'o', 'u']]\n"
     ]
    }
   ],
   "source": [
    "print(lista)"
   ]
  },
  {
   "cell_type": "code",
   "execution_count": 401,
   "id": "a3ebd5d9",
   "metadata": {},
   "outputs": [],
   "source": [
    "#Agrega de forma individual cada uno de los elementos\n",
    "lista = [\"a\", \"b\", \"c\", \"d\", \"e\", 1, 2, 3, 4, 5, False, True]\n",
    "vocales_faltantes= \"i\",\"o\",\"u\"\n",
    "lista.extend(vocales_faltantes)"
   ]
  },
  {
   "cell_type": "code",
   "execution_count": 402,
   "id": "f789c007",
   "metadata": {},
   "outputs": [
    {
     "name": "stdout",
     "output_type": "stream",
     "text": [
      "['a', 'b', 'c', 'd', 'e', 1, 2, 3, 4, 5, False, True, 'i', 'o', 'u']\n"
     ]
    }
   ],
   "source": [
    "print (lista)"
   ]
  },
  {
   "cell_type": "code",
   "execution_count": 403,
   "id": "29cdc564",
   "metadata": {},
   "outputs": [],
   "source": [
    "#Agrega un elemento en la posicion indicada. (orden: posicion, elemento)\n",
    "lista = [\"a\", \"b\", \"c\", \"d\", \"e\", 1, 2, 3, 4, 5, False, True]\n",
    "lista.insert (5,vocales_faltantes)"
   ]
  },
  {
   "cell_type": "code",
   "execution_count": 404,
   "id": "e73a3df6",
   "metadata": {},
   "outputs": [
    {
     "name": "stdout",
     "output_type": "stream",
     "text": [
      "['a', 'b', 'c', 'd', 'e', ('i', 'o', 'u'), 1, 2, 3, 4, 5, False, True]\n"
     ]
    }
   ],
   "source": [
    "print (lista)"
   ]
  },
  {
   "cell_type": "code",
   "execution_count": null,
   "id": "15d9fe2e",
   "metadata": {},
   "outputs": [],
   "source": []
  },
  {
   "cell_type": "markdown",
   "id": "01569a27",
   "metadata": {},
   "source": [
    "### Ejercicio 3\n",
    "- Eliminar los caracteres que no son vocales de la lista de caracteres."
   ]
  },
  {
   "cell_type": "code",
   "execution_count": 405,
   "id": "0b97f95e",
   "metadata": {},
   "outputs": [
    {
     "name": "stdout",
     "output_type": "stream",
     "text": [
      "a\n",
      "e\n"
     ]
    }
   ],
   "source": [
    "lista = [\"a\", \"b\", \"c\", \"d\", \"e\", 1, 2, 3, 4, 5, False, True]\n",
    "vocales= [\"a\",\"e\"]\n",
    "for vocal in lista:\n",
    "    if vocal in vocales:\n",
    "        print (vocal)"
   ]
  },
  {
   "cell_type": "code",
   "execution_count": 406,
   "id": "8dde3078",
   "metadata": {},
   "outputs": [
    {
     "name": "stdout",
     "output_type": "stream",
     "text": [
      "['a', 'c', 'd', 'e', 1, 2, 3, 4, 5, False, True]\n",
      "['a', 'd', 'e', 1, 2, 3, 4, 5, False, True]\n",
      "['a', 'e', 1, 2, 3, 4, 5, False, True]\n",
      "['a', 'e', 2, 3, 4, 5, False, True]\n",
      "['a', 'e', 3, 4, 5, False, True]\n",
      "['a', 'e', 4, 5, False, True]\n",
      "['a', 'e', 5, False, True]\n",
      "['a', 'e', False, True]\n",
      "['a', 'e', True]\n",
      "['a', 'e']\n"
     ]
    }
   ],
   "source": [
    "lista=[\"a\", \"b\", \"c\", \"d\", \"e\", 1, 2, 3, 4, 5, False, True]\n",
    "vocales= [\"a\",\"e\"]\n",
    "for obj in lista[:]:\n",
    "    if obj not in vocales:\n",
    "        lista.remove(obj)\n",
    "        print(lista)"
   ]
  },
  {
   "cell_type": "code",
   "execution_count": 407,
   "id": "b657bbaf",
   "metadata": {},
   "outputs": [
    {
     "name": "stdout",
     "output_type": "stream",
     "text": [
      "['a', 'e']\n"
     ]
    }
   ],
   "source": [
    "lista = [\"a\", \"b\", \"c\", \"d\", \"e\", 1, 2, 3, 4, 5, False, True]\n",
    "del lista [1:4]\n",
    "del lista [2:]\n",
    "print(lista)"
   ]
  },
  {
   "cell_type": "code",
   "execution_count": null,
   "id": "23d30ea4",
   "metadata": {},
   "outputs": [],
   "source": []
  },
  {
   "cell_type": "markdown",
   "id": "a1f846a6",
   "metadata": {},
   "source": [
    "### Ejercico 4\n",
    "- De la lista inicial (**lista**) reemplazar los elementos boleanos por 0 y 1 respectivamente.\n",
    "\n",
    "#Para sustituir en listas: INDEX y SLICING"
   ]
  },
  {
   "cell_type": "code",
   "execution_count": 408,
   "id": "ef405145",
   "metadata": {},
   "outputs": [],
   "source": [
    "lista = [\"a\", \"b\", \"c\", \"d\", \"e\", 1, 2, 3, 4, 5, False, True]\n"
   ]
  },
  {
   "cell_type": "code",
   "execution_count": 409,
   "id": "9fe4632b",
   "metadata": {},
   "outputs": [
    {
     "name": "stdout",
     "output_type": "stream",
     "text": [
      "['a', 'b', 'c', 'd', 'e', 1, 2, 3, 4, 5, 0, 1]\n"
     ]
    }
   ],
   "source": [
    "lista[-2]=0\n",
    "lista[-1]=1\n",
    "print (lista)"
   ]
  },
  {
   "cell_type": "code",
   "execution_count": 410,
   "id": "7ff0cd89",
   "metadata": {},
   "outputs": [
    {
     "name": "stdout",
     "output_type": "stream",
     "text": [
      "['a', 'b', 'c', 'd', 'e', 1, 2, 3, 4, 5, 0, 1]\n"
     ]
    }
   ],
   "source": [
    "lista = [\"a\", \"b\", \"c\", \"d\", \"e\", 1, 2, 3, 4, 5, False, True]\n",
    "lista[10:12]= [0,1]\n",
    "print(lista)"
   ]
  },
  {
   "cell_type": "markdown",
   "id": "0dc22d68",
   "metadata": {},
   "source": [
    "### Ejercicio 5\n",
    "- Aplicar el metodo **.reverse()** a la lista de números."
   ]
  },
  {
   "cell_type": "code",
   "execution_count": 411,
   "id": "e26f8c1a",
   "metadata": {},
   "outputs": [
    {
     "name": "stdout",
     "output_type": "stream",
     "text": [
      "[True, 5, 4, 3, 2, 1]\n"
     ]
    }
   ],
   "source": [
    "lista = [\"a\", \"b\", \"c\", \"d\", \"e\", 1, 2, 3, 4, 5, False, True]\n",
    "numeros= {1,2,3,4,5}\n",
    "numeros_alreves = [n for n in lista if n in numeros][::-1]\n",
    "print(numeros_alreves)"
   ]
  },
  {
   "cell_type": "markdown",
   "id": "a64d1816",
   "metadata": {},
   "source": [
    "*NO CONSIGO QUITAR \"TRUE\", AL PONER -1 PARA ITERAR ALREVÉS , TAMBIéN INTERPRETA QUE ES EL ÚLTIMO ELEMENTO"
   ]
  },
  {
   "cell_type": "code",
   "execution_count": 412,
   "id": "091558cb",
   "metadata": {},
   "outputs": [
    {
     "name": "stdout",
     "output_type": "stream",
     "text": [
      "['a', 'b', 'c', 'd', 'e', False]\n"
     ]
    }
   ],
   "source": [
    "listasn = [\"a\", \"b\", \"c\", \"d\", \"e\", 1, 2, 3, 4, 5, False, True]\n",
    "del listasn [5:10]\n",
    "del listasn [-1]\n",
    "print (listasn)\n"
   ]
  },
  {
   "cell_type": "code",
   "execution_count": 413,
   "id": "4271add1",
   "metadata": {},
   "outputs": [
    {
     "name": "stdout",
     "output_type": "stream",
     "text": [
      "['a', 'b', 'c', 'd', 'e', [True, 5, 4, 3, 2, 1], False]\n"
     ]
    }
   ],
   "source": [
    "listasn.insert(5,numeros_alreves)\n",
    "print(listasn)"
   ]
  },
  {
   "cell_type": "code",
   "execution_count": 414,
   "id": "ac520056",
   "metadata": {},
   "outputs": [
    {
     "name": "stdout",
     "output_type": "stream",
     "text": [
      "['a', 'b', 'c', 'd', 'e', [5, 4, 3, 2, 1], False, True]\n"
     ]
    }
   ],
   "source": [
    "del listasn [5][0]\n",
    "listasn.insert(11,True)\n",
    "print(listasn)"
   ]
  },
  {
   "cell_type": "markdown",
   "id": "a7fedc64",
   "metadata": {},
   "source": [
    "### Ejercicio 6\n",
    "- Aplicar el método **.sort()** a la lista de números."
   ]
  },
  {
   "cell_type": "code",
   "execution_count": 415,
   "id": "3a3f630e",
   "metadata": {},
   "outputs": [
    {
     "name": "stdout",
     "output_type": "stream",
     "text": [
      "[2, 3, 4, 5]\n"
     ]
    }
   ],
   "source": [
    "numeros_invertidos.sort()\n",
    "del numeros_invertidos [0]\n",
    "print (numeros_invertidos)\n",
    "\n"
   ]
  },
  {
   "cell_type": "code",
   "execution_count": null,
   "id": "ee4e49c9-a0f3-488c-a015-c5f7b88249e5",
   "metadata": {},
   "outputs": [],
   "source": []
  },
  {
   "cell_type": "code",
   "execution_count": null,
   "id": "10440560",
   "metadata": {},
   "outputs": [],
   "source": []
  },
  {
   "cell_type": "markdown",
   "id": "6fca8361",
   "metadata": {},
   "source": [
    "### Ejercicio 7\n",
    "- Une las 3 listas para formar la lista inicial otra vez."
   ]
  },
  {
   "cell_type": "code",
   "execution_count": 416,
   "id": "12b94ea1",
   "metadata": {},
   "outputs": [
    {
     "name": "stdout",
     "output_type": "stream",
     "text": [
      "['a', 'b', 'c', 'd', 'e', 1, 2, 3, 4, 5, False, True]\n"
     ]
    }
   ],
   "source": [
    "lista_completa= lista_1+lista_2+lista_3\n",
    "print(lista_completa)"
   ]
  },
  {
   "cell_type": "code",
   "execution_count": null,
   "id": "eb64e86c",
   "metadata": {},
   "outputs": [],
   "source": []
  },
  {
   "cell_type": "code",
   "execution_count": null,
   "id": "2a29eab4",
   "metadata": {},
   "outputs": [],
   "source": []
  },
  {
   "cell_type": "markdown",
   "id": "105efdd9",
   "metadata": {},
   "source": [
    "### Ejercicio 8\n",
    "- Dada la siguiente lista de empresas:\n",
    "    1. Ordenar cada lista dentro de la lista de empresas en orden alfabetico.\n",
    "    2. Obtener las empresas: Audi, Avianca y KLM, mediante sus índices y crear una nueva lista con esos elementos."
   ]
  },
  {
   "cell_type": "code",
   "execution_count": 417,
   "id": "0e81c6cb",
   "metadata": {},
   "outputs": [
    {
     "data": {
      "text/plain": [
       "[['Cocacola', 'Pepsi'],\n",
       " ['Meta', 'TW', 'IG'],\n",
       " ['Ferrari', 'Audi', 'Ford', 'Nissan'],\n",
       " ['KLM', 'AA', 'Iberia', 'AE', 'Avianca']]"
      ]
     },
     "execution_count": 417,
     "metadata": {},
     "output_type": "execute_result"
    }
   ],
   "source": [
    "empresas = [[\"Cocacola\", \"Pepsi\"],\n",
    "            [\"Meta\", \"TW\", \"IG\"],\n",
    "            [\"Ferrari\", \"Audi\", \"Ford\", \"Nissan\"],\n",
    "            [\"KLM\", \"AA\", \"Iberia\", \"AE\", \"Avianca\"]]\n",
    "\n",
    "empresas"
   ]
  },
  {
   "cell_type": "code",
   "execution_count": 424,
   "id": "4963bdb3",
   "metadata": {},
   "outputs": [
    {
     "name": "stdout",
     "output_type": "stream",
     "text": [
      "[['AA', 'AE', 'Avianca', 'Iberia', 'KLM'], ['Audi', 'Ferrari', 'Ford', 'Nissan'], ['Cocacola', 'Pepsi'], ['IG', 'Meta', 'TW']]\n"
     ]
    }
   ],
   "source": [
    "empresas.sort()\n",
    "print (empresas)"
   ]
  },
  {
   "cell_type": "code",
   "execution_count": 419,
   "id": "9f9a41fa",
   "metadata": {},
   "outputs": [
    {
     "name": "stdout",
     "output_type": "stream",
     "text": [
      "[['Cocacola', 'Pepsi'], ['Audi', 'Ferrari', 'Ford', 'Nissan'], ['AA', 'AE', 'Avianca', 'Iberia', 'KLM'], ['IG', 'Meta', 'TW']]\n"
     ]
    }
   ],
   "source": [
    "for sublista in empresas:\n",
    "    sublista.sort()\n",
    "print (empresas)\n"
   ]
  },
  {
   "cell_type": "code",
   "execution_count": 420,
   "id": "89812952",
   "metadata": {},
   "outputs": [],
   "source": [
    "##############################################################################################################################"
   ]
  }
 ],
 "metadata": {
  "kernelspec": {
   "display_name": "Python 3",
   "language": "python",
   "name": "python3"
  },
  "language_info": {
   "codemirror_mode": {
    "name": "ipython",
    "version": 3
   },
   "file_extension": ".py",
   "mimetype": "text/x-python",
   "name": "python",
   "nbconvert_exporter": "python",
   "pygments_lexer": "ipython3",
   "version": "3.12.6"
  }
 },
 "nbformat": 4,
 "nbformat_minor": 5
}
