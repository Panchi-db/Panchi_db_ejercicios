{
 "cells": [
  {
   "cell_type": "markdown",
   "metadata": {},
   "source": [
    "PRACTICA MODULO 1 CRUD de objetos Product"
   ]
  },
  {
   "cell_type": "code",
   "execution_count": 12,
   "metadata": {},
   "outputs": [
    {
     "name": "stdout",
     "output_type": "stream",
     "text": [
      "Producto creado correctamente\n",
      "Ordenador Asus\n",
      "399\n",
      "83.79\n"
     ]
    }
   ],
   "source": [
    "class Product:\n",
    "    title= \"Definicion producto\"\n",
    "    iva=0.21\n",
    "    \n",
    "    #Método constructor\n",
    "    def __init__(self,title, price): #atributos de instancia\n",
    "        self.title = title\n",
    "        self.price = price\n",
    "        print (\"Producto creado correctamente\")\n",
    "    \n",
    "    def __str__(self):\n",
    "        return f\"Producto: Modelo= {self.title},Precio= {self.price}\"\n",
    "    \n",
    "    def calcular_iva(self):\n",
    "        return round(self.price * self.iva,2) #round: redondea( dos valores: lo que se quiere redondear , el num de decimales)\n",
    "        \n",
    "    \n",
    "        \"\"\"Calcula el iva, lo más s eguro un float: Iva calculado.\n",
    "        \"\"\"\n",
    "        \n",
    "        \n",
    "ordenador_asus = Product (\"Ordenador Asus\", 399)\n",
    "print(ordenador_asus.title)\n",
    "print(ordenador_asus.price)\n",
    "print(ordenador_asus.calcular_iva())\n",
    "        \n",
    "        "
   ]
  },
  {
   "cell_type": "code",
   "execution_count": 13,
   "metadata": {},
   "outputs": [
    {
     "name": "stdout",
     "output_type": "stream",
     "text": [
      "Producto: Modelo= Ordenador Asus,Precio= 399\n"
     ]
    }
   ],
   "source": [
    "print(ordenador_asus)"
   ]
  },
  {
   "cell_type": "code",
   "execution_count": 44,
   "metadata": {},
   "outputs": [
    {
     "name": "stdout",
     "output_type": "stream",
     "text": [
      "Producto creado correctamente\n",
      "Producto creado correctamente\n",
      "Producto creado correctamente\n",
      "Producto creado correctamente\n",
      "[<__main__.Product object at 0x00000230C303CB90>, <__main__.Product object at 0x00000230C303EF60>, <__main__.Product object at 0x00000230C303E330>, <__main__.Product object at 0x00000230C303DF10>]\n"
     ]
    }
   ],
   "source": [
    "product1= Product (\"lupa\", 10)\n",
    "product2= Product (\"micro\", 200)\n",
    "product3= Product (\"bafle\", 500)\n",
    "product4= Product (\"flautin\", 1100)\n",
    "\n",
    "products= [product1,product2,product3, product4]\n",
    "print (products)"
   ]
  },
  {
   "cell_type": "code",
   "execution_count": 40,
   "metadata": {},
   "outputs": [],
   "source": [
    "menu= \"\"\"Bienvenido a la WEB de Productos.\\n \n",
    "        Elige una opcion\n",
    "          1-- Ver Productos\n",
    "          2--Ordenar por precio\n",
    "          3-- Ver producto por título\n",
    "          4-- Crear producto\n",
    "          5-- Actualizar producto\n",
    "          6-- Borrar producto por ID\n",
    "          7-- Borrar productos \n",
    "          8-- Salir\n",
    "          \"\"\""
   ]
  },
  {
   "cell_type": "code",
   "execution_count": 45,
   "metadata": {},
   "outputs": [],
   "source": [
    "def su_precio(product):\n",
    "    return product.price"
   ]
  },
  {
   "cell_type": "code",
   "execution_count": 50,
   "metadata": {},
   "outputs": [
    {
     "name": "stdout",
     "output_type": "stream",
     "text": [
      "Has elegido la opción 1\n",
      " Hete aqui: Producto: Modelo= lupa,Precio= 10\n",
      " Hete aqui: Producto: Modelo= micro,Precio= 200\n",
      " Hete aqui: Producto: Modelo= bafle,Precio= 500\n",
      " Hete aqui: Producto: Modelo= flautin,Precio= 1100\n",
      "\n",
      "\n",
      "Has elegido la opción 2\n",
      "Producto: Modelo= flautin,Precio= 1100\n",
      "Producto: Modelo= bafle,Precio= 500\n",
      "Producto: Modelo= micro,Precio= 200\n",
      "Producto: Modelo= lupa,Precio= 10\n",
      "Adiós\n"
     ]
    }
   ],
   "source": [
    "while True: \n",
    "    opcion =  int(input(menu))\n",
    "    match opcion:\n",
    "        case 1:\n",
    "            print (\"Has elegido la opción 1\")\n",
    "            for product in products:\n",
    "                print(f\" Hete aqui: {product}\")\n",
    "                if not products:\n",
    "                    print (\"No hay productos disponibles\")\n",
    "                    continue\n",
    "            print (\"\\n\")\n",
    "        case 2:\n",
    "            print (\"Has elegido la opción 2\")\n",
    "            product_sorted_by_price= sorted(products, key= su_precio, reverse=True)\n",
    "            for product in  product_sorted_by_price:\n",
    "                print (product)\n",
    "    \n",
    "        case 3:\n",
    "            print (\"Has elegido la opción 3\")\n",
    "            title = input (\"introduce titulo de producto\")\n",
    "            for product in products:\n",
    "                if title.lower() == product.title.lower():\n",
    "                    print (product)  \n",
    "        case 4:\n",
    "            print (\"Has elegido la opción 4\")\n",
    "            title= input (\"Introduce el titulo del producto\")\n",
    "            price= float(input(\"Introduce precio de producto\"))\n",
    "            quantity= int(input(\"introduce cantidad de nuevo porducto\"))\n",
    "            new_product= Product(title, price)\n",
    "            products.append (new_product)\n",
    "            print (new_product)\n",
    "        case 5:\n",
    "            print (\"Has elegido la opción 5\")\n",
    "            title= input(\"Introduce producto a actualizar\")\n",
    "            nuevo_titulo= input(\"Introduce el nuevo título\")\n",
    "            nuevo_precio= float(input(\"Introduce el nuevo precio\"))\n",
    "            actualizado= False\n",
    "            for product in products:\n",
    "                if title.lower() == product.title.lower():\n",
    "                    product.title= nuevo_titulo\n",
    "                    product.price= nuevo_precio\n",
    "                    actualizado= True\n",
    "                    break\n",
    "            if actualizado:\n",
    "                print(product)\n",
    "                print (\"Producto actualizado\")\n",
    "            else:\n",
    "                print (\"Inténtelo más tarde, por favor\")\n",
    "        case 6:\n",
    "            print (\"Has elegido la opción 6\")\n",
    "            title= input(\"Introduce titulo del producto a borrar\")\n",
    "            #actualizado= False\n",
    "            #for product in products:\n",
    "                #if title.lower() == product.title.lower():\n",
    "                    #products.remove(product)\n",
    "                    #actualizado= True\n",
    "                    #break\n",
    "            #if actualizado:\n",
    "                #print (\"Producto borrado\")\n",
    "            #else:\n",
    "                #print (\"No has borrado. Torpe\")\n",
    "            #DEL\n",
    "            for i in enumerate (products):\n",
    "                if title.lower()== product.title.lower():\n",
    "                    del products [i]\n",
    "                    print (\"Producto eliminado correctamente\")\n",
    "        case 7:\n",
    "            print (\"Has elegido la opción 7\")\n",
    "            products.clear()\n",
    "            print (\"Productos borrados correctamente\")\n",
    "        case 8:\n",
    "            print (\"Adiós\")\n",
    "            break\n",
    "        case _:\n",
    "            print (\"Opción incorrecta\")\n",
    "            "
   ]
  },
  {
   "cell_type": "code",
   "execution_count": null,
   "metadata": {},
   "outputs": [],
   "source": [
    "#FUNCIONES PARA MENU CRUD DE PRODUCTOS\n",
    "\n",
    "#def print_products():"
   ]
  },
  {
   "cell_type": "code",
   "execution_count": null,
   "metadata": {},
   "outputs": [],
   "source": [
    "while True: \n",
    "    opcion =  int(input(menu))\n",
    "    match opcion:\n",
    "        case 1:\n",
    "            print (\"Has elegido la opción 1\")\n",
    "            for product in products:\n",
    "                print(f\" Hete aqui: {product}\")\n",
    "                if not products:\n",
    "                    print (\"No hay productos disponibles\")\n",
    "                    continue\n",
    "            print (\"\\n\")\n",
    "        case 2:\n",
    "            print (\"Has elegido la opción 2\")\n",
    "            product_sorted_by_price= sorted(products, key= su_precio, reverse=True)\n",
    "            for product in  product_sorted_by_price:\n",
    "                print (product)\n",
    "    \n",
    "        case 3:\n",
    "            print (\"Has elegido la opción 3\")\n",
    "            title = input (\"introduce titulo de producto\")\n",
    "            for product in products:\n",
    "                if title.lower() == product.title.lower():\n",
    "                    print (product)  \n",
    "        case 4:\n",
    "            print (\"Has elegido la opción 4\")\n",
    "            title= input (\"Introduce el titulo del producto\")\n",
    "            price= float(input(\"Introduce precio de producto\"))\n",
    "            quantity= int(input(\"introduce cantidad de nuevo porducto\"))\n",
    "            new_product= Product(title, price)\n",
    "            products.append (new_product)\n",
    "            print (new_product)\n",
    "        case 5:\n",
    "            print (\"Has elegido la opción 5\")\n",
    "            title= input(\"Introduce producto a actualizar\")\n",
    "            nuevo_titulo= input(\"Introduce el nuevo título\")\n",
    "            nuevo_precio= float(input(\"Introduce el nuevo precio\"))\n",
    "            actualizado= False\n",
    "            for product in products:\n",
    "                if title.lower() == product.title.lower():\n",
    "                    product.title= nuevo_titulo\n",
    "                    product.price= nuevo_precio\n",
    "                    actualizado= True\n",
    "                    break\n",
    "            if actualizado:\n",
    "                print(product)\n",
    "                print (\"Producto actualizado\")\n",
    "            else:\n",
    "                print (\"Inténtelo más tarde, por favor\")\n",
    "        case 6:\n",
    "            print (\"Has elegido la opción 6\")\n",
    "            title= input(\"Introduce titulo del producto a borrar\")\n",
    "            #actualizado= False\n",
    "            #for product in products:\n",
    "                #if title.lower() == product.title.lower():\n",
    "                    #products.remove(product)\n",
    "                    #actualizado= True\n",
    "                    #break\n",
    "            #if actualizado:\n",
    "                #print (\"Producto borrado\")\n",
    "            #else:\n",
    "                #print (\"No has borrado. Torpe\")\n",
    "            #DEL\n",
    "            for i in enumerate (products):\n",
    "                if title.lower()== product.title.lower():\n",
    "                    del products [i]\n",
    "                    print (\"Producto eliminado correctamente\")\n",
    "        case 7:\n",
    "            print (\"Has elegido la opción 7\")\n",
    "            products.clear()\n",
    "            print (\"Productos borrados correctamente\")\n",
    "        case 8:\n",
    "            print (\"Adiós\")\n",
    "            break\n",
    "        case _:\n",
    "            print (\"Opción incorrecta\")"
   ]
  }
 ],
 "metadata": {
  "kernelspec": {
   "display_name": "Python 3",
   "language": "python",
   "name": "python3"
  },
  "language_info": {
   "codemirror_mode": {
    "name": "ipython",
    "version": 3
   },
   "file_extension": ".py",
   "mimetype": "text/x-python",
   "name": "python",
   "nbconvert_exporter": "python",
   "pygments_lexer": "ipython3",
   "version": "3.12.6"
  }
 },
 "nbformat": 4,
 "nbformat_minor": 2
}
