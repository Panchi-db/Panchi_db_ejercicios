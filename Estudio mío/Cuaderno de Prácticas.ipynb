{
 "cells": [
  {
   "cell_type": "markdown",
   "metadata": {},
   "source": [
    "# clase Producto con atributos: id , título, precio, canidad, activo, descipción\n",
    "#sin metodo __init__"
   ]
  },
  {
   "cell_type": "code",
   "execution_count": 1,
   "metadata": {},
   "outputs": [],
   "source": [
    "class Producto:\n",
    "    id= 12345\n",
    "    titulo= \"tira led\"\n",
    "    precio= 11\n",
    "    cantidad= 15243\n",
    "    activo= True\n",
    "    descrpición= \"tiras led de distintos tamaños\"\n",
    "    \n",
    "Led_2m= Producto()"
   ]
  },
  {
   "cell_type": "code",
   "execution_count": null,
   "metadata": {},
   "outputs": [],
   "source": [
    "#Ejemplo hecho por Alan abajo:"
   ]
  },
  {
   "cell_type": "code",
   "execution_count": 2,
   "metadata": {},
   "outputs": [],
   "source": [
    "class Producto:\n",
    "    id= 0\n",
    "    titulo= \"producto por defecto\"\n",
    "    precio= 0.0\n",
    "    cantidad= 0\n",
    "    activo= True\n",
    "    descrpición= \"descripción por defecto\"\n",
    "    image_url= \"http://www.google.com/image.png\"\n",
    "    \n",
    "Led_2m= Producto()"
   ]
  },
  {
   "cell_type": "markdown",
   "metadata": {},
   "source": [
    "*Ejercicios faciles de bucles "
   ]
  },
  {
   "cell_type": "code",
   "execution_count": 3,
   "metadata": {},
   "outputs": [
    {
     "name": "stdout",
     "output_type": "stream",
     "text": [
      "1\n",
      "2\n",
      "3\n",
      "4\n",
      "5\n"
     ]
    }
   ],
   "source": [
    "#Escribe un programa que use un bucle para imprimir los números del 1 al 5.\n",
    "for i in range (1,6):\n",
    "    print (i)"
   ]
  },
  {
   "cell_type": "code",
   "execution_count": 13,
   "metadata": {},
   "outputs": [
    {
     "name": "stdout",
     "output_type": "stream",
     "text": [
      "h\n",
      "o\n",
      "l\n",
      "a\n"
     ]
    }
   ],
   "source": [
    "#Dada la palabra \"hola\", usa un bucle para imprimir cada letra en una línea separada.\n",
    "palabra= \"hola\"\n",
    "for cada_elemento in palabra:\n",
    "    print (cada_elemento)"
   ]
  },
  {
   "cell_type": "code",
   "execution_count": 17,
   "metadata": {},
   "outputs": [
    {
     "name": "stdout",
     "output_type": "stream",
     "text": [
      "15\n"
     ]
    }
   ],
   "source": [
    "#Dada la lista [1, 2, 3, 4, 5], usa un bucle para calcular la suma de todos los números.\n",
    "lista = [1,2,3,4,5]\n",
    "suma = 0\n",
    "for numeros in lista:\n",
    "    suma += numeros\n",
    "print (suma)"
   ]
  },
  {
   "cell_type": "code",
   "execution_count": 22,
   "metadata": {},
   "outputs": [
    {
     "name": "stdout",
     "output_type": "stream",
     "text": [
      "68\n"
     ]
    }
   ],
   "source": [
    "#Dada la lista [18, 22, 15, 4, 9], usa un bucle para calcular la suma de todos los números\n",
    "lista= [18, 22, 15, 4, 9]\n",
    "resultado_suma= 0\n",
    "for numeros_que_hay in lista:\n",
    "    resultado_suma += numeros_que_hay\n",
    "print (resultado_suma)"
   ]
  },
  {
   "cell_type": "code",
   "execution_count": 25,
   "metadata": {},
   "outputs": [
    {
     "name": "stdout",
     "output_type": "stream",
     "text": [
      "53\n"
     ]
    }
   ],
   "source": [
    "#Dada la lista [1, 2, 3, 4, 5], usa un bucle para calcular la suma de todos los números\n",
    "lista= [3,5,8,2,5,6,7,8,9]\n",
    "resultado_suma= 0\n",
    "for num_lista in lista:\n",
    "    resultado_suma += num_lista\n",
    "print (resultado_suma)"
   ]
  },
  {
   "cell_type": "code",
   "execution_count": 29,
   "metadata": {},
   "outputs": [
    {
     "name": "stdout",
     "output_type": "stream",
     "text": [
      "2\n",
      "4\n",
      "6\n",
      "8\n"
     ]
    }
   ],
   "source": [
    "#Usa un bucle para imprimir solo los números pares del 1 al 10.\n",
    "for pares in range (1,10):\n",
    "    if pares %2==0:\n",
    "        print (pares)"
   ]
  },
  {
   "cell_type": "code",
   "execution_count": 30,
   "metadata": {},
   "outputs": [
    {
     "name": "stdout",
     "output_type": "stream",
     "text": [
      "Te haré reina en un jardin de rosas, laura!\n",
      "Te haré reina en un jardin de rosas, juana!\n",
      "Te haré reina en un jardin de rosas, pilar!\n"
     ]
    }
   ],
   "source": [
    "#Escribe un programa que le pida al usuario su nombre y lo imprima tres veces usando un bucle.\n",
    "\n",
    "for introduce_nombre in range (3):\n",
    "    pregunta= input (\"dime tu nombre\")\n",
    "    print (f\"Te haré reina en un jardin de rosas, {pregunta}!\")\n"
   ]
  },
  {
   "cell_type": "markdown",
   "metadata": {},
   "source": [
    "*Bucle \"for\""
   ]
  },
  {
   "cell_type": "code",
   "execution_count": 32,
   "metadata": {},
   "outputs": [
    {
     "name": "stdout",
     "output_type": "stream",
     "text": [
      "1\n",
      "2\n",
      "3\n",
      "4\n",
      "5\n"
     ]
    }
   ],
   "source": [
    "#Escribe un programa que use un bucle for para imprimir los números del 1 al 5.\n",
    "for num in range (1,6):\n",
    "    print (num)"
   ]
  },
  {
   "cell_type": "code",
   "execution_count": 33,
   "metadata": {},
   "outputs": [
    {
     "name": "stdout",
     "output_type": "stream",
     "text": [
      "manzana\n",
      "naranja\n",
      "plátano\n"
     ]
    }
   ],
   "source": [
    "#Dada la lista [\"manzana\", \"naranja\", \"plátano\"], usa un bucle for para imprimir cada elemento.\n",
    "frutas= [\"manzana\", \"naranja\", \"plátano\"]\n",
    "for pieza in frutas:\n",
    "    print (pieza)"
   ]
  },
  {
   "cell_type": "code",
   "execution_count": 37,
   "metadata": {},
   "outputs": [
    {
     "name": "stdout",
     "output_type": "stream",
     "text": [
      "Letra 1g\n",
      "Letra 2a\n",
      "Letra 3t\n",
      "Letra 4o\n"
     ]
    }
   ],
   "source": [
    "#Dada la palabra \"gato\", usa un bucle for para imprimir cada letra con su número correspondiente (empezando en 1).\n",
    "palabra= \"gato\"\n",
    "for i, letra in enumerate (palabra, start =1):\n",
    "    print(f\"Letra {i}{letra}\")"
   ]
  },
  {
   "cell_type": "code",
   "execution_count": 39,
   "metadata": {},
   "outputs": [
    {
     "name": "stdout",
     "output_type": "stream",
     "text": [
      "La numeracion de las letras de la palabra Misericorda es: 1 m\n",
      "La numeracion de las letras de la palabra Misericorda es: 2 i\n",
      "La numeracion de las letras de la palabra Misericorda es: 3 s\n",
      "La numeracion de las letras de la palabra Misericorda es: 4 e\n",
      "La numeracion de las letras de la palabra Misericorda es: 5 r\n",
      "La numeracion de las letras de la palabra Misericorda es: 6 i\n",
      "La numeracion de las letras de la palabra Misericorda es: 7 c\n",
      "La numeracion de las letras de la palabra Misericorda es: 8 o\n",
      "La numeracion de las letras de la palabra Misericorda es: 9 r\n",
      "La numeracion de las letras de la palabra Misericorda es: 10 d\n",
      "La numeracion de las letras de la palabra Misericorda es: 11 i\n",
      "La numeracion de las letras de la palabra Misericorda es: 12 a\n"
     ]
    }
   ],
   "source": [
    "#Dada la palabra \"misericordia\", usa un bucle for para imprimir cada letra con su número correspondiente (empezando en 1)\n",
    "misericordia= \"misericordia\"\n",
    "\n",
    "for num, misericordia in enumerate (misericordia, start=1):\n",
    "    print (f\"La numeracion de las letras de la palabra Misericorda es: {num} {misericordia}\")"
   ]
  },
  {
   "cell_type": "code",
   "execution_count": 40,
   "metadata": {},
   "outputs": [
    {
     "name": "stdout",
     "output_type": "stream",
     "text": [
      "El numero 1 corresponde a la letra a.\n",
      "El numero 2 corresponde a la letra u.\n",
      "El numero 3 corresponde a la letra l.\n",
      "El numero 4 corresponde a la letra a.\n",
      "El numero 5 corresponde a la letra r.\n",
      "El numero 6 corresponde a la letra i.\n",
      "El numero 7 corresponde a la letra o.\n"
     ]
    }
   ],
   "source": [
    "palabra= \"aulario\"\n",
    "for orden, palabra in enumerate (palabra, start=1):\n",
    "    print(f\"El numero {orden} corresponde a la letra {palabra}.\")"
   ]
  },
  {
   "cell_type": "code",
   "execution_count": 41,
   "metadata": {},
   "outputs": [
    {
     "name": "stdout",
     "output_type": "stream",
     "text": [
      "a\n",
      "a\n"
     ]
    }
   ],
   "source": [
    "#para la palabra \"autralopitecus\" imprime solo las aes.\n",
    "palabra=\"australopitecus\"\n",
    "for letra in palabra:\n",
    "    if letra == \"a\":\n",
    "        print (letra)"
   ]
  },
  {
   "cell_type": "code",
   "execution_count": 46,
   "metadata": {},
   "outputs": [
    {
     "name": "stdout",
     "output_type": "stream",
     "text": [
      " el numero es 1 y luego esta la letra que es r\n",
      " el numero es 2 y luego esta la letra que es o\n",
      " el numero es 3 y luego esta la letra que es c\n",
      " el numero es 4 y luego esta la letra que es i\n",
      " el numero es 5 y luego esta la letra que es n\n",
      " el numero es 6 y luego esta la letra que es a\n",
      " el numero es 7 y luego esta la letra que es n\n",
      " el numero es 8 y luego esta la letra que es t\n",
      " el numero es 9 y luego esta la letra que es e\n"
     ]
    }
   ],
   "source": [
    "palabra = \"rocinante\"\n",
    "for i, palabra in enumerate (palabra, start=1):\n",
    "    palabra.count(\"rocinante\")\n",
    "    print (f\" el numero es {i} y luego esta la letra que es {palabra}\")"
   ]
  },
  {
   "cell_type": "code",
   "execution_count": 48,
   "metadata": {},
   "outputs": [
    {
     "name": "stdout",
     "output_type": "stream",
     "text": [
      "0\n",
      "1\n",
      "2\n",
      "3\n",
      "4\n",
      "5\n",
      "6\n",
      "7\n",
      "8\n",
      "9\n"
     ]
    }
   ],
   "source": [
    "#Usa un bucle for para imprimir los números del 0 al 9 (sin incluir el 10).\n",
    "for lista_num in range (0, 10):\n",
    "    print (lista_num)"
   ]
  },
  {
   "cell_type": "code",
   "execution_count": 51,
   "metadata": {},
   "outputs": [
    {
     "name": "stdout",
     "output_type": "stream",
     "text": [
      "2\n",
      "4\n",
      "6\n",
      "8\n"
     ]
    }
   ],
   "source": [
    "#Dada la lista [1, 2, 3, 4], usa un bucle for para imprimir cada número multiplicado por 2.\n",
    "lista =[1,2,3,4]\n",
    "\n",
    "for num in lista:\n",
    "    print(num*2)"
   ]
  }
 ],
 "metadata": {
  "kernelspec": {
   "display_name": "Python 3",
   "language": "python",
   "name": "python3"
  },
  "language_info": {
   "codemirror_mode": {
    "name": "ipython",
    "version": 3
   },
   "file_extension": ".py",
   "mimetype": "text/x-python",
   "name": "python",
   "nbconvert_exporter": "python",
   "pygments_lexer": "ipython3",
   "version": "3.12.6"
  }
 },
 "nbformat": 4,
 "nbformat_minor": 2
}
